{
 "cells": [
  {
   "cell_type": "code",
   "execution_count": 0,
   "metadata": {
    "application/vnd.databricks.v1+cell": {
     "cellMetadata": {
      "byteLimit": 2048000,
      "rowLimit": 10000
     },
     "inputWidgets": {},
     "nuid": "afe53f5e-5aea-4c99-9dea-19aa05d4b058",
     "showTitle": false,
     "title": ""
    }
   },
   "outputs": [
    {
     "output_type": "display_data",
     "data": {
      "text/html": [
       "\n",
       "            <div>\n",
       "                <p><b>SparkSession - hive</b></p>\n",
       "                \n",
       "        <div>\n",
       "            <p><b>SparkContext</b></p>\n",
       "\n",
       "            <p><a href=\"/?o=442497685451589#setting/sparkui/0912-090202-roovxbxh/driver-3609808658249020146\">Spark UI</a></p>\n",
       "\n",
       "            <dl>\n",
       "              <dt>Version</dt>\n",
       "                <dd><code>v3.3.2</code></dd>\n",
       "              <dt>Master</dt>\n",
       "                <dd><code>local[8]</code></dd>\n",
       "              <dt>AppName</dt>\n",
       "                <dd><code>Databricks Shell</code></dd>\n",
       "            </dl>\n",
       "        </div>\n",
       "        \n",
       "            </div>\n",
       "        "
      ]
     },
     "metadata": {
      "application/vnd.databricks.v1+output": {
       "addedWidgets": {},
       "arguments": {},
       "data": "\n            <div>\n                <p><b>SparkSession - hive</b></p>\n                \n        <div>\n            <p><b>SparkContext</b></p>\n\n            <p><a href=\"/?o=442497685451589#setting/sparkui/0912-090202-roovxbxh/driver-3609808658249020146\">Spark UI</a></p>\n\n            <dl>\n              <dt>Version</dt>\n                <dd><code>v3.3.2</code></dd>\n              <dt>Master</dt>\n                <dd><code>local[8]</code></dd>\n              <dt>AppName</dt>\n                <dd><code>Databricks Shell</code></dd>\n            </dl>\n        </div>\n        \n            </div>\n        ",
       "datasetInfos": [],
       "metadata": {},
       "removedWidgets": [],
       "textData": null,
       "type": "htmlSandbox"
      }
     },
     "output_type": "display_data"
    }
   ],
   "source": [
    "spark"
   ]
  },
  {
   "cell_type": "markdown",
   "metadata": {
    "application/vnd.databricks.v1+cell": {
     "cellMetadata": {},
     "inputWidgets": {},
     "nuid": "ff6e131b-49f1-4120-a981-51e31d4f2c4d",
     "showTitle": false,
     "title": ""
    }
   },
   "source": [
    "----------------- Read The File"
   ]
  },
  {
   "cell_type": "code",
   "execution_count": 0,
   "metadata": {
    "application/vnd.databricks.v1+cell": {
     "cellMetadata": {
      "byteLimit": 2048000,
      "rowLimit": 10000
     },
     "inputWidgets": {},
     "nuid": "402b6cb7-7994-4e6f-9ba9-689e5502edef",
     "showTitle": false,
     "title": ""
    }
   },
   "outputs": [
    {
     "output_type": "stream",
     "name": "stdout",
     "output_type": "stream",
     "text": [
      "+---+--------+---+------+-------+------+\n| id|    name|age|salary|address|gender|\n+---+--------+---+------+-------+------+\n|  1|  Manish| 26| 75000|  INDIA|     m|\n|  2|  Nikita| 23|100000|    USA|     f|\n|  3|  Pritam| 22|150000|  INDIA|     m|\n|  4|Prantosh| 17|200000|  JAPAN|     m|\n|  5|  Vikash| 31|300000|    USA|     m|\n|  6|   Rahul| 55|300000|  INDIA|     m|\n|  7|    Raju| 67|540000|    USA|     m|\n|  8| Praveen| 28| 70000|  JAPAN|     m|\n|  9|     Dev| 32|150000|  JAPAN|     m|\n| 10|  Sherin| 16| 25000| RUSSIA|     f|\n| 11|    Ragu| 12| 35000|  INDIA|     f|\n| 12|   Sweta| 43|200000|  INDIA|     f|\n| 13| Raushan| 48|650000|    USA|     m|\n| 14|  Mukesh| 36| 95000| RUSSIA|     m|\n| 15| Prakash| 52|750000|  INDIA|     m|\n+---+--------+---+------+-------+------+\n\n"
     ]
    }
   ],
   "source": [
    "write_df = spark.read.format('csv')\\\n",
    "                     .option('delimeter', ',')\\\n",
    "                     .option('header', 'true')\\\n",
    "                     .option('mode', 'PERMISSIVE')\\\n",
    "                     .load('/FileStore/tables/datafile_for_write.txt')\n",
    "write_df.show()"
   ]
  },
  {
   "cell_type": "markdown",
   "metadata": {
    "application/vnd.databricks.v1+cell": {
     "cellMetadata": {},
     "inputWidgets": {},
     "nuid": "c452a3c5-9baf-4a17-8107-5566e20b7d4c",
     "showTitle": false,
     "title": ""
    }
   },
   "source": [
    "------------------ Write File Data"
   ]
  },
  {
   "cell_type": "code",
   "execution_count": 0,
   "metadata": {
    "application/vnd.databricks.v1+cell": {
     "cellMetadata": {
      "byteLimit": 2048000,
      "rowLimit": 10000
     },
     "inputWidgets": {},
     "nuid": "b5302570-78aa-402c-9c76-ab66bd971128",
     "showTitle": false,
     "title": ""
    }
   },
   "outputs": [],
   "source": [
    "write_df.write.format('csv')\\\n",
    "           .option('header', 'true')\\\n",
    "           .mode('overwrite')\\\n",
    "           .save('/FileStore/tables/csv_write')"
   ]
  },
  {
   "cell_type": "code",
   "execution_count": 0,
   "metadata": {
    "application/vnd.databricks.v1+cell": {
     "cellMetadata": {
      "byteLimit": 2048000,
      "rowLimit": 10000
     },
     "inputWidgets": {},
     "nuid": "c0d7596e-59e1-452d-94bd-7f81bc740383",
     "showTitle": false,
     "title": ""
    }
   },
   "outputs": [
    {
     "output_type": "display_data",
     "data": {
      "text/html": [
       "<style scoped>\n",
       "  .table-result-container {\n",
       "    max-height: 300px;\n",
       "    overflow: auto;\n",
       "  }\n",
       "  table, th, td {\n",
       "    border: 1px solid black;\n",
       "    border-collapse: collapse;\n",
       "  }\n",
       "  th, td {\n",
       "    padding: 5px;\n",
       "  }\n",
       "  th {\n",
       "    text-align: left;\n",
       "  }\n",
       "</style><div class='table-result-container'><table class='table-result'><thead style='background-color: white'><tr><th>path</th><th>name</th><th>size</th><th>modificationTime</th></tr></thead><tbody><tr><td>dbfs:/FileStore/tables/csv_write/_committed_2080155463350979958</td><td>_committed_2080155463350979958</td><td>112</td><td>1726139659000</td></tr><tr><td>dbfs:/FileStore/tables/csv_write/_committed_3473671417335480626</td><td>_committed_3473671417335480626</td><td>210</td><td>1726139880000</td></tr><tr><td>dbfs:/FileStore/tables/csv_write/_committed_5602635085231312888</td><td>_committed_5602635085231312888</td><td>375</td><td>1726143196000</td></tr><tr><td>dbfs:/FileStore/tables/csv_write/_committed_6057950584906712320</td><td>_committed_6057950584906712320</td><td>548</td><td>1726141680000</td></tr><tr><td>dbfs:/FileStore/tables/csv_write/_committed_833114350144638594</td><td>_committed_833114350144638594</td><td>372</td><td>1726140045000</td></tr><tr><td>dbfs:/FileStore/tables/csv_write/_committed_vacuum3790993138825360321</td><td>_committed_vacuum3790993138825360321</td><td>96</td><td>1726141681000</td></tr><tr><td>dbfs:/FileStore/tables/csv_write/_started_5602635085231312888</td><td>_started_5602635085231312888</td><td>0</td><td>1726143196000</td></tr><tr><td>dbfs:/FileStore/tables/csv_write/_started_6057950584906712320</td><td>_started_6057950584906712320</td><td>0</td><td>1726141680000</td></tr><tr><td>dbfs:/FileStore/tables/csv_write/part-00000-tid-5602635085231312888-d8c406fe-35f6-4b9a-b802-361ce349a8e1-52-1-c000.csv</td><td>part-00000-tid-5602635085231312888-d8c406fe-35f6-4b9a-b802-361ce349a8e1-52-1-c000.csv</td><td>430</td><td>1726143196000</td></tr><tr><td>dbfs:/FileStore/tables/csv_write/transform_write_df.csv/</td><td>transform_write_df.csv/</td><td>0</td><td>0</td></tr></tbody></table></div>"
      ]
     },
     "metadata": {
      "application/vnd.databricks.v1+output": {
       "addedWidgets": {},
       "aggData": [],
       "aggError": "",
       "aggOverflow": false,
       "aggSchema": [],
       "aggSeriesLimitReached": false,
       "aggType": "",
       "arguments": {},
       "columnCustomDisplayInfos": {},
       "data": [
        [
         "dbfs:/FileStore/tables/csv_write/_committed_2080155463350979958",
         "_committed_2080155463350979958",
         112,
         1726139659000
        ],
        [
         "dbfs:/FileStore/tables/csv_write/_committed_3473671417335480626",
         "_committed_3473671417335480626",
         210,
         1726139880000
        ],
        [
         "dbfs:/FileStore/tables/csv_write/_committed_5602635085231312888",
         "_committed_5602635085231312888",
         375,
         1726143196000
        ],
        [
         "dbfs:/FileStore/tables/csv_write/_committed_6057950584906712320",
         "_committed_6057950584906712320",
         548,
         1726141680000
        ],
        [
         "dbfs:/FileStore/tables/csv_write/_committed_833114350144638594",
         "_committed_833114350144638594",
         372,
         1726140045000
        ],
        [
         "dbfs:/FileStore/tables/csv_write/_committed_vacuum3790993138825360321",
         "_committed_vacuum3790993138825360321",
         96,
         1726141681000
        ],
        [
         "dbfs:/FileStore/tables/csv_write/_started_5602635085231312888",
         "_started_5602635085231312888",
         0,
         1726143196000
        ],
        [
         "dbfs:/FileStore/tables/csv_write/_started_6057950584906712320",
         "_started_6057950584906712320",
         0,
         1726141680000
        ],
        [
         "dbfs:/FileStore/tables/csv_write/part-00000-tid-5602635085231312888-d8c406fe-35f6-4b9a-b802-361ce349a8e1-52-1-c000.csv",
         "part-00000-tid-5602635085231312888-d8c406fe-35f6-4b9a-b802-361ce349a8e1-52-1-c000.csv",
         430,
         1726143196000
        ],
        [
         "dbfs:/FileStore/tables/csv_write/transform_write_df.csv/",
         "transform_write_df.csv/",
         0,
         0
        ]
       ],
       "datasetInfos": [],
       "dbfsResultPath": null,
       "isJsonSchema": true,
       "metadata": {
        "isDbfsCommandResult": false
       },
       "overflow": false,
       "plotOptions": {
        "customPlotOptions": {},
        "displayType": "table",
        "pivotAggregation": null,
        "pivotColumns": null,
        "xColumns": null,
        "yColumns": null
       },
       "removedWidgets": [],
       "schema": [
        {
         "metadata": "{}",
         "name": "path",
         "type": "\"string\""
        },
        {
         "metadata": "{}",
         "name": "name",
         "type": "\"string\""
        },
        {
         "metadata": "{}",
         "name": "size",
         "type": "\"long\""
        },
        {
         "metadata": "{}",
         "name": "modificationTime",
         "type": "\"long\""
        }
       ],
       "type": "table"
      }
     },
     "output_type": "display_data"
    }
   ],
   "source": [
    "%fs\n",
    "ls /FileStore/tables/csv_write"
   ]
  },
  {
   "cell_type": "markdown",
   "metadata": {
    "application/vnd.databricks.v1+cell": {
     "cellMetadata": {},
     "inputWidgets": {},
     "nuid": "e603501d-933a-425a-9105-9a0d6abec6c6",
     "showTitle": false,
     "title": ""
    }
   },
   "source": [
    "--------------- Write File With Repartitioning"
   ]
  },
  {
   "cell_type": "code",
   "execution_count": 0,
   "metadata": {
    "application/vnd.databricks.v1+cell": {
     "cellMetadata": {
      "byteLimit": 2048000,
      "rowLimit": 10000
     },
     "inputWidgets": {},
     "nuid": "288c057a-33a3-4788-8fc4-39a99d83482c",
     "showTitle": false,
     "title": ""
    }
   },
   "outputs": [],
   "source": [
    "write_df = write_df.repartition(3)\n",
    "write_df.write.format('csv')\\\n",
    "              .option('header', 'true')\\\n",
    "              .mode('overwrite')\\\n",
    "              .save('/FileStore/tables/csv_write')"
   ]
  },
  {
   "cell_type": "code",
   "execution_count": 0,
   "metadata": {
    "application/vnd.databricks.v1+cell": {
     "cellMetadata": {
      "byteLimit": 2048000,
      "rowLimit": 10000
     },
     "inputWidgets": {},
     "nuid": "2ded551f-2a2e-4f40-a0d0-105ae0e48593",
     "showTitle": false,
     "title": ""
    }
   },
   "outputs": [
    {
     "output_type": "display_data",
     "data": {
      "text/html": [
       "<style scoped>\n",
       "  .table-result-container {\n",
       "    max-height: 300px;\n",
       "    overflow: auto;\n",
       "  }\n",
       "  table, th, td {\n",
       "    border: 1px solid black;\n",
       "    border-collapse: collapse;\n",
       "  }\n",
       "  th, td {\n",
       "    padding: 5px;\n",
       "  }\n",
       "  th {\n",
       "    text-align: left;\n",
       "  }\n",
       "</style><div class='table-result-container'><table class='table-result'><thead style='background-color: white'><tr><th>path</th><th>name</th><th>size</th><th>modificationTime</th></tr></thead><tbody><tr><td>dbfs:/FileStore/tables/csv_write/_committed_2080155463350979958</td><td>_committed_2080155463350979958</td><td>112</td><td>1726139659000</td></tr><tr><td>dbfs:/FileStore/tables/csv_write/_committed_3473671417335480626</td><td>_committed_3473671417335480626</td><td>210</td><td>1726139880000</td></tr><tr><td>dbfs:/FileStore/tables/csv_write/_committed_5602635085231312888</td><td>_committed_5602635085231312888</td><td>375</td><td>1726143196000</td></tr><tr><td>dbfs:/FileStore/tables/csv_write/_committed_6057950584906712320</td><td>_committed_6057950584906712320</td><td>548</td><td>1726141680000</td></tr><tr><td>dbfs:/FileStore/tables/csv_write/_committed_6822810924080459208</td><td>_committed_6822810924080459208</td><td>375</td><td>1726143245000</td></tr><tr><td>dbfs:/FileStore/tables/csv_write/_committed_833114350144638594</td><td>_committed_833114350144638594</td><td>372</td><td>1726140045000</td></tr><tr><td>dbfs:/FileStore/tables/csv_write/_committed_vacuum3790993138825360321</td><td>_committed_vacuum3790993138825360321</td><td>96</td><td>1726141681000</td></tr><tr><td>dbfs:/FileStore/tables/csv_write/_started_5602635085231312888</td><td>_started_5602635085231312888</td><td>0</td><td>1726143196000</td></tr><tr><td>dbfs:/FileStore/tables/csv_write/_started_6057950584906712320</td><td>_started_6057950584906712320</td><td>0</td><td>1726141680000</td></tr><tr><td>dbfs:/FileStore/tables/csv_write/_started_6822810924080459208</td><td>_started_6822810924080459208</td><td>0</td><td>1726143245000</td></tr><tr><td>dbfs:/FileStore/tables/csv_write/part-00000-tid-6822810924080459208-33b7cc4b-8316-415b-9211-cad1435e97c0-54-1-c000.csv</td><td>part-00000-tid-6822810924080459208-33b7cc4b-8316-415b-9211-cad1435e97c0-54-1-c000.csv</td><td>164</td><td>1726143245000</td></tr><tr><td>dbfs:/FileStore/tables/csv_write/part-00001-tid-6822810924080459208-33b7cc4b-8316-415b-9211-cad1435e97c0-55-1-c000.csv</td><td>part-00001-tid-6822810924080459208-33b7cc4b-8316-415b-9211-cad1435e97c0-55-1-c000.csv</td><td>167</td><td>1726143245000</td></tr><tr><td>dbfs:/FileStore/tables/csv_write/part-00002-tid-6822810924080459208-33b7cc4b-8316-415b-9211-cad1435e97c0-56-1-c000.csv</td><td>part-00002-tid-6822810924080459208-33b7cc4b-8316-415b-9211-cad1435e97c0-56-1-c000.csv</td><td>167</td><td>1726143245000</td></tr><tr><td>dbfs:/FileStore/tables/csv_write/transform_write_df.csv/</td><td>transform_write_df.csv/</td><td>0</td><td>0</td></tr></tbody></table></div>"
      ]
     },
     "metadata": {
      "application/vnd.databricks.v1+output": {
       "addedWidgets": {},
       "aggData": [],
       "aggError": "",
       "aggOverflow": false,
       "aggSchema": [],
       "aggSeriesLimitReached": false,
       "aggType": "",
       "arguments": {},
       "columnCustomDisplayInfos": {},
       "data": [
        [
         "dbfs:/FileStore/tables/csv_write/_committed_2080155463350979958",
         "_committed_2080155463350979958",
         112,
         1726139659000
        ],
        [
         "dbfs:/FileStore/tables/csv_write/_committed_3473671417335480626",
         "_committed_3473671417335480626",
         210,
         1726139880000
        ],
        [
         "dbfs:/FileStore/tables/csv_write/_committed_5602635085231312888",
         "_committed_5602635085231312888",
         375,
         1726143196000
        ],
        [
         "dbfs:/FileStore/tables/csv_write/_committed_6057950584906712320",
         "_committed_6057950584906712320",
         548,
         1726141680000
        ],
        [
         "dbfs:/FileStore/tables/csv_write/_committed_6822810924080459208",
         "_committed_6822810924080459208",
         375,
         1726143245000
        ],
        [
         "dbfs:/FileStore/tables/csv_write/_committed_833114350144638594",
         "_committed_833114350144638594",
         372,
         1726140045000
        ],
        [
         "dbfs:/FileStore/tables/csv_write/_committed_vacuum3790993138825360321",
         "_committed_vacuum3790993138825360321",
         96,
         1726141681000
        ],
        [
         "dbfs:/FileStore/tables/csv_write/_started_5602635085231312888",
         "_started_5602635085231312888",
         0,
         1726143196000
        ],
        [
         "dbfs:/FileStore/tables/csv_write/_started_6057950584906712320",
         "_started_6057950584906712320",
         0,
         1726141680000
        ],
        [
         "dbfs:/FileStore/tables/csv_write/_started_6822810924080459208",
         "_started_6822810924080459208",
         0,
         1726143245000
        ],
        [
         "dbfs:/FileStore/tables/csv_write/part-00000-tid-6822810924080459208-33b7cc4b-8316-415b-9211-cad1435e97c0-54-1-c000.csv",
         "part-00000-tid-6822810924080459208-33b7cc4b-8316-415b-9211-cad1435e97c0-54-1-c000.csv",
         164,
         1726143245000
        ],
        [
         "dbfs:/FileStore/tables/csv_write/part-00001-tid-6822810924080459208-33b7cc4b-8316-415b-9211-cad1435e97c0-55-1-c000.csv",
         "part-00001-tid-6822810924080459208-33b7cc4b-8316-415b-9211-cad1435e97c0-55-1-c000.csv",
         167,
         1726143245000
        ],
        [
         "dbfs:/FileStore/tables/csv_write/part-00002-tid-6822810924080459208-33b7cc4b-8316-415b-9211-cad1435e97c0-56-1-c000.csv",
         "part-00002-tid-6822810924080459208-33b7cc4b-8316-415b-9211-cad1435e97c0-56-1-c000.csv",
         167,
         1726143245000
        ],
        [
         "dbfs:/FileStore/tables/csv_write/transform_write_df.csv/",
         "transform_write_df.csv/",
         0,
         0
        ]
       ],
       "datasetInfos": [],
       "dbfsResultPath": null,
       "isJsonSchema": true,
       "metadata": {
        "isDbfsCommandResult": false
       },
       "overflow": false,
       "plotOptions": {
        "customPlotOptions": {},
        "displayType": "table",
        "pivotAggregation": null,
        "pivotColumns": null,
        "xColumns": null,
        "yColumns": null
       },
       "removedWidgets": [],
       "schema": [
        {
         "metadata": "{}",
         "name": "path",
         "type": "\"string\""
        },
        {
         "metadata": "{}",
         "name": "name",
         "type": "\"string\""
        },
        {
         "metadata": "{}",
         "name": "size",
         "type": "\"long\""
        },
        {
         "metadata": "{}",
         "name": "modificationTime",
         "type": "\"long\""
        }
       ],
       "type": "table"
      }
     },
     "output_type": "display_data"
    }
   ],
   "source": [
    "%fs\n",
    "ls \"/FileStore/tables/csv_write\""
   ]
  },
  {
   "cell_type": "markdown",
   "metadata": {
    "application/vnd.databricks.v1+cell": {
     "cellMetadata": {},
     "inputWidgets": {},
     "nuid": "5e4615e9-bd66-43e6-acc2-fb72553d600f",
     "showTitle": false,
     "title": ""
    }
   },
   "source": [
    "------------------- Data Partitioning"
   ]
  },
  {
   "cell_type": "code",
   "execution_count": 0,
   "metadata": {
    "application/vnd.databricks.v1+cell": {
     "cellMetadata": {
      "byteLimit": 2048000,
      "rowLimit": 10000
     },
     "inputWidgets": {},
     "nuid": "70778af3-2138-4e42-8181-065951fa4c2e",
     "showTitle": false,
     "title": ""
    }
   },
   "outputs": [],
   "source": [
    "# partition by address column only\n",
    "write_df.write.format('csv')\\\n",
    "              .option('header', 'true')\\\n",
    "              .mode('overwrite')\\\n",
    "              .partitionBy('address')\\\n",
    "              .save('/FileStore/tables/partition_by_address')"
   ]
  },
  {
   "cell_type": "code",
   "execution_count": 0,
   "metadata": {
    "application/vnd.databricks.v1+cell": {
     "cellMetadata": {
      "byteLimit": 2048000,
      "rowLimit": 10000
     },
     "inputWidgets": {},
     "nuid": "26a82545-f81d-49db-bb8b-51bf52d3173a",
     "showTitle": false,
     "title": ""
    }
   },
   "outputs": [
    {
     "output_type": "display_data",
     "data": {
      "text/html": [
       "<style scoped>\n",
       "  .table-result-container {\n",
       "    max-height: 300px;\n",
       "    overflow: auto;\n",
       "  }\n",
       "  table, th, td {\n",
       "    border: 1px solid black;\n",
       "    border-collapse: collapse;\n",
       "  }\n",
       "  th, td {\n",
       "    padding: 5px;\n",
       "  }\n",
       "  th {\n",
       "    text-align: left;\n",
       "  }\n",
       "</style><div class='table-result-container'><table class='table-result'><thead style='background-color: white'><tr><th>path</th><th>name</th><th>size</th><th>modificationTime</th></tr></thead><tbody><tr><td>dbfs:/FileStore/tables/partition_by_address/_SUCCESS</td><td>_SUCCESS</td><td>0</td><td>1726144723000</td></tr><tr><td>dbfs:/FileStore/tables/partition_by_address/address=INDIA/</td><td>address=INDIA/</td><td>0</td><td>0</td></tr><tr><td>dbfs:/FileStore/tables/partition_by_address/address=JAPAN/</td><td>address=JAPAN/</td><td>0</td><td>0</td></tr><tr><td>dbfs:/FileStore/tables/partition_by_address/address=RUSSIA/</td><td>address=RUSSIA/</td><td>0</td><td>0</td></tr><tr><td>dbfs:/FileStore/tables/partition_by_address/address=USA/</td><td>address=USA/</td><td>0</td><td>0</td></tr></tbody></table></div>"
      ]
     },
     "metadata": {
      "application/vnd.databricks.v1+output": {
       "addedWidgets": {},
       "aggData": [],
       "aggError": "",
       "aggOverflow": false,
       "aggSchema": [],
       "aggSeriesLimitReached": false,
       "aggType": "",
       "arguments": {},
       "columnCustomDisplayInfos": {},
       "data": [
        [
         "dbfs:/FileStore/tables/partition_by_address/_SUCCESS",
         "_SUCCESS",
         0,
         1726144723000
        ],
        [
         "dbfs:/FileStore/tables/partition_by_address/address=INDIA/",
         "address=INDIA/",
         0,
         0
        ],
        [
         "dbfs:/FileStore/tables/partition_by_address/address=JAPAN/",
         "address=JAPAN/",
         0,
         0
        ],
        [
         "dbfs:/FileStore/tables/partition_by_address/address=RUSSIA/",
         "address=RUSSIA/",
         0,
         0
        ],
        [
         "dbfs:/FileStore/tables/partition_by_address/address=USA/",
         "address=USA/",
         0,
         0
        ]
       ],
       "datasetInfos": [],
       "dbfsResultPath": null,
       "isJsonSchema": true,
       "metadata": {
        "isDbfsCommandResult": false
       },
       "overflow": false,
       "plotOptions": {
        "customPlotOptions": {},
        "displayType": "table",
        "pivotAggregation": null,
        "pivotColumns": null,
        "xColumns": null,
        "yColumns": null
       },
       "removedWidgets": [],
       "schema": [
        {
         "metadata": "{}",
         "name": "path",
         "type": "\"string\""
        },
        {
         "metadata": "{}",
         "name": "name",
         "type": "\"string\""
        },
        {
         "metadata": "{}",
         "name": "size",
         "type": "\"long\""
        },
        {
         "metadata": "{}",
         "name": "modificationTime",
         "type": "\"long\""
        }
       ],
       "type": "table"
      }
     },
     "output_type": "display_data"
    }
   ],
   "source": [
    "%fs\n",
    "ls /FileStore/tables/partition_by_address"
   ]
  },
  {
   "cell_type": "code",
   "execution_count": 0,
   "metadata": {
    "application/vnd.databricks.v1+cell": {
     "cellMetadata": {
      "byteLimit": 2048000,
      "rowLimit": 10000
     },
     "inputWidgets": {},
     "nuid": "1d3eefe7-cb4d-458a-9ea2-9a77849c1826",
     "showTitle": false,
     "title": ""
    }
   },
   "outputs": [
    {
     "output_type": "stream",
     "name": "stdout",
     "output_type": "stream",
     "text": [
      "+---+--------+---+------+------+-------+\n| id|    name|age|salary|gender|address|\n+---+--------+---+------+------+-------+\n|  1|  Manish| 26| 75000|     m|  INDIA|\n|  3|  Pritam| 22|150000|     m|  INDIA|\n|  6|   Rahul| 55|300000|     m|  INDIA|\n| 11|    Ragu| 12| 35000|     f|  INDIA|\n| 12|   Sweta| 43|200000|     f|  INDIA|\n| 15| Prakash| 52|750000|     m|  INDIA|\n|  2|  Nikita| 23|100000|     f|    USA|\n|  5|  Vikash| 31|300000|     m|    USA|\n|  7|    Raju| 67|540000|     m|    USA|\n| 13| Raushan| 48|650000|     m|    USA|\n|  4|Prantosh| 17|200000|     m|  JAPAN|\n|  8| Praveen| 28| 70000|     m|  JAPAN|\n|  9|     Dev| 32|150000|     m|  JAPAN|\n| 10|  Sherin| 16| 25000|     f| RUSSIA|\n| 14|  Mukesh| 36| 95000|     m| RUSSIA|\n+---+--------+---+------+------+-------+\n\n"
     ]
    }
   ],
   "source": [
    "india_df = spark.read.format('csv')\\\n",
    "                     .option('inferschema', 'true')\\\n",
    "                     .option('header', 'true')\\\n",
    "                     .option('mode', 'PERMISSIVE')\\\n",
    "                     .load('/FileStore/tables/partition_by_address')\n",
    "india_df.show()"
   ]
  },
  {
   "cell_type": "code",
   "execution_count": 0,
   "metadata": {
    "application/vnd.databricks.v1+cell": {
     "cellMetadata": {
      "byteLimit": 2048000,
      "rowLimit": 10000
     },
     "inputWidgets": {},
     "nuid": "63fc5591-4afd-40b9-9f78-781f555fb49a",
     "showTitle": false,
     "title": ""
    }
   },
   "outputs": [],
   "source": [
    "# partition by id column only but it will be not duplicate so it will participate in multiple part which is not good. so that we should use bucket at that time.\n",
    "write_df.write.format('csv')\\\n",
    "              .option('header', 'true')\\\n",
    "              .mode('overwrite')\\\n",
    "              .partitionBy('id')\\\n",
    "              .save('/FileStore/tables/partition_by_id')"
   ]
  },
  {
   "cell_type": "code",
   "execution_count": 0,
   "metadata": {
    "application/vnd.databricks.v1+cell": {
     "cellMetadata": {
      "byteLimit": 2048000,
      "rowLimit": 10000
     },
     "inputWidgets": {},
     "nuid": "d5c153ed-c777-4f27-a632-4ffc8087a0cd",
     "showTitle": false,
     "title": ""
    }
   },
   "outputs": [
    {
     "output_type": "stream",
     "name": "stdout",
     "output_type": "stream",
     "text": [
      "Out[38]: [FileInfo(path='dbfs:/FileStore/tables/partition_by_id/_SUCCESS', name='_SUCCESS', size=0, modificationTime=1726147749000),\n FileInfo(path='dbfs:/FileStore/tables/partition_by_id/id=1/', name='id=1/', size=0, modificationTime=0),\n FileInfo(path='dbfs:/FileStore/tables/partition_by_id/id=10/', name='id=10/', size=0, modificationTime=0),\n FileInfo(path='dbfs:/FileStore/tables/partition_by_id/id=11/', name='id=11/', size=0, modificationTime=0),\n FileInfo(path='dbfs:/FileStore/tables/partition_by_id/id=12/', name='id=12/', size=0, modificationTime=0),\n FileInfo(path='dbfs:/FileStore/tables/partition_by_id/id=13/', name='id=13/', size=0, modificationTime=0),\n FileInfo(path='dbfs:/FileStore/tables/partition_by_id/id=14/', name='id=14/', size=0, modificationTime=0),\n FileInfo(path='dbfs:/FileStore/tables/partition_by_id/id=15/', name='id=15/', size=0, modificationTime=0),\n FileInfo(path='dbfs:/FileStore/tables/partition_by_id/id=2/', name='id=2/', size=0, modificationTime=0),\n FileInfo(path='dbfs:/FileStore/tables/partition_by_id/id=3/', name='id=3/', size=0, modificationTime=0),\n FileInfo(path='dbfs:/FileStore/tables/partition_by_id/id=4/', name='id=4/', size=0, modificationTime=0),\n FileInfo(path='dbfs:/FileStore/tables/partition_by_id/id=5/', name='id=5/', size=0, modificationTime=0),\n FileInfo(path='dbfs:/FileStore/tables/partition_by_id/id=6/', name='id=6/', size=0, modificationTime=0),\n FileInfo(path='dbfs:/FileStore/tables/partition_by_id/id=7/', name='id=7/', size=0, modificationTime=0),\n FileInfo(path='dbfs:/FileStore/tables/partition_by_id/id=8/', name='id=8/', size=0, modificationTime=0),\n FileInfo(path='dbfs:/FileStore/tables/partition_by_id/id=9/', name='id=9/', size=0, modificationTime=0)]"
     ]
    }
   ],
   "source": [
    "dbutils.fs.ls('/FileStore/tables/partition_by_id')"
   ]
  },
  {
   "cell_type": "code",
   "execution_count": 0,
   "metadata": {
    "application/vnd.databricks.v1+cell": {
     "cellMetadata": {
      "byteLimit": 2048000,
      "rowLimit": 10000
     },
     "inputWidgets": {},
     "nuid": "c3910267-2137-4454-b551-46945bb1411d",
     "showTitle": false,
     "title": ""
    }
   },
   "outputs": [],
   "source": [
    "# partition by multiple column like address and gender\n",
    "write_df.write.format('csv')\\\n",
    "              .option('header', 'true')\\\n",
    "              .mode('overwrite')\\\n",
    "              .partitionBy('address', 'gender')\\\n",
    "              .save('/FileStore/tables/partition_by_address_gender')"
   ]
  },
  {
   "cell_type": "code",
   "execution_count": 0,
   "metadata": {
    "application/vnd.databricks.v1+cell": {
     "cellMetadata": {
      "byteLimit": 2048000,
      "rowLimit": 10000
     },
     "inputWidgets": {},
     "nuid": "28318b1a-db2f-4b04-9820-9f592a8d4b2d",
     "showTitle": false,
     "title": ""
    }
   },
   "outputs": [
    {
     "output_type": "stream",
     "name": "stdout",
     "output_type": "stream",
     "text": [
      "Out[42]: [FileInfo(path='dbfs:/FileStore/tables/partition_by_address_gender/_SUCCESS', name='_SUCCESS', size=0, modificationTime=1726147903000),\n FileInfo(path='dbfs:/FileStore/tables/partition_by_address_gender/address=INDIA/', name='address=INDIA/', size=0, modificationTime=0),\n FileInfo(path='dbfs:/FileStore/tables/partition_by_address_gender/address=JAPAN/', name='address=JAPAN/', size=0, modificationTime=0),\n FileInfo(path='dbfs:/FileStore/tables/partition_by_address_gender/address=RUSSIA/', name='address=RUSSIA/', size=0, modificationTime=0),\n FileInfo(path='dbfs:/FileStore/tables/partition_by_address_gender/address=USA/', name='address=USA/', size=0, modificationTime=0)]"
     ]
    }
   ],
   "source": [
    "dbutils.fs.ls('/FileStore/tables/partition_by_address_gender')"
   ]
  },
  {
   "cell_type": "code",
   "execution_count": 0,
   "metadata": {
    "application/vnd.databricks.v1+cell": {
     "cellMetadata": {
      "byteLimit": 2048000,
      "rowLimit": 10000
     },
     "inputWidgets": {},
     "nuid": "b8f33b8d-4a36-4502-9440-a250ecd55592",
     "showTitle": false,
     "title": ""
    }
   },
   "outputs": [
    {
     "output_type": "stream",
     "name": "stdout",
     "output_type": "stream",
     "text": [
      "Out[43]: [FileInfo(path='dbfs:/FileStore/tables/partition_by_address_gender/address=INDIA/gender=f/', name='gender=f/', size=0, modificationTime=0),\n FileInfo(path='dbfs:/FileStore/tables/partition_by_address_gender/address=INDIA/gender=m/', name='gender=m/', size=0, modificationTime=0)]"
     ]
    }
   ],
   "source": [
    "dbutils.fs.ls('/FileStore/tables/partition_by_address_gender/address=INDIA')"
   ]
  },
  {
   "cell_type": "markdown",
   "metadata": {
    "application/vnd.databricks.v1+cell": {
     "cellMetadata": {},
     "inputWidgets": {},
     "nuid": "e291f514-07cc-4e1d-818d-f45e492bed05",
     "showTitle": false,
     "title": ""
    }
   },
   "source": [
    "---------- Data Bucketing"
   ]
  },
  {
   "cell_type": "code",
   "execution_count": 0,
   "metadata": {
    "application/vnd.databricks.v1+cell": {
     "cellMetadata": {
      "byteLimit": 2048000,
      "rowLimit": 10000
     },
     "inputWidgets": {},
     "nuid": "c98e4cae-8ee1-4599-b71e-b283856b8a43",
     "showTitle": false,
     "title": ""
    }
   },
   "outputs": [],
   "source": [
    "# partition by multiple column like address and gender\n",
    "write_df.write.format('csv')\\\n",
    "              .option('header', 'true')\\\n",
    "              .option('path', '/FileStore/tables/bucket_by_id')\\\n",
    "              .mode('overwrite')\\\n",
    "              .bucketBy(3, 'id')\\\n",
    "              .saveAsTable('bucket_by_id_table')"
   ]
  },
  {
   "cell_type": "code",
   "execution_count": 0,
   "metadata": {
    "application/vnd.databricks.v1+cell": {
     "cellMetadata": {
      "byteLimit": 2048000,
      "rowLimit": 10000
     },
     "inputWidgets": {},
     "nuid": "abe806f3-3966-4231-8eed-ac6e731ff3d6",
     "showTitle": false,
     "title": ""
    }
   },
   "outputs": [
    {
     "output_type": "display_data",
     "data": {
      "text/html": [
       "<style scoped>\n",
       "  .table-result-container {\n",
       "    max-height: 300px;\n",
       "    overflow: auto;\n",
       "  }\n",
       "  table, th, td {\n",
       "    border: 1px solid black;\n",
       "    border-collapse: collapse;\n",
       "  }\n",
       "  th, td {\n",
       "    padding: 5px;\n",
       "  }\n",
       "  th {\n",
       "    text-align: left;\n",
       "  }\n",
       "</style><div class='table-result-container'><table class='table-result'><thead style='background-color: white'><tr><th>path</th><th>name</th><th>size</th><th>modificationTime</th></tr></thead><tbody><tr><td>dbfs:/FileStore/tables/bucket_by_id/_SUCCESS</td><td>_SUCCESS</td><td>0</td><td>1726148503000</td></tr><tr><td>dbfs:/FileStore/tables/bucket_by_id/_committed_3073423319325188797</td><td>_committed_3073423319325188797</td><td>309</td><td>1726148503000</td></tr><tr><td>dbfs:/FileStore/tables/bucket_by_id/_started_3073423319325188797</td><td>_started_3073423319325188797</td><td>0</td><td>1726148502000</td></tr><tr><td>dbfs:/FileStore/tables/bucket_by_id/part-00000-tid-3073423319325188797-2626bfcf-c82b-4b74-8307-0fc7f23e0e0b-140-1_00000.c000.csv</td><td>part-00000-tid-3073423319325188797-2626bfcf-c82b-4b74-8307-0fc7f23e0e0b-140-1_00000.c000.csv</td><td>239</td><td>1726148502000</td></tr><tr><td>dbfs:/FileStore/tables/bucket_by_id/part-00000-tid-3073423319325188797-2626bfcf-c82b-4b74-8307-0fc7f23e0e0b-140-2_00001.c000.csv</td><td>part-00000-tid-3073423319325188797-2626bfcf-c82b-4b74-8307-0fc7f23e0e0b-140-2_00001.c000.csv</td><td>172</td><td>1726148503000</td></tr><tr><td>dbfs:/FileStore/tables/bucket_by_id/part-00000-tid-3073423319325188797-2626bfcf-c82b-4b74-8307-0fc7f23e0e0b-140-3_00002.c000.csv</td><td>part-00000-tid-3073423319325188797-2626bfcf-c82b-4b74-8307-0fc7f23e0e0b-140-3_00002.c000.csv</td><td>87</td><td>1726148503000</td></tr></tbody></table></div>"
      ]
     },
     "metadata": {
      "application/vnd.databricks.v1+output": {
       "addedWidgets": {},
       "aggData": [],
       "aggError": "",
       "aggOverflow": false,
       "aggSchema": [],
       "aggSeriesLimitReached": false,
       "aggType": "",
       "arguments": {},
       "columnCustomDisplayInfos": {},
       "data": [
        [
         "dbfs:/FileStore/tables/bucket_by_id/_SUCCESS",
         "_SUCCESS",
         0,
         1726148503000
        ],
        [
         "dbfs:/FileStore/tables/bucket_by_id/_committed_3073423319325188797",
         "_committed_3073423319325188797",
         309,
         1726148503000
        ],
        [
         "dbfs:/FileStore/tables/bucket_by_id/_started_3073423319325188797",
         "_started_3073423319325188797",
         0,
         1726148502000
        ],
        [
         "dbfs:/FileStore/tables/bucket_by_id/part-00000-tid-3073423319325188797-2626bfcf-c82b-4b74-8307-0fc7f23e0e0b-140-1_00000.c000.csv",
         "part-00000-tid-3073423319325188797-2626bfcf-c82b-4b74-8307-0fc7f23e0e0b-140-1_00000.c000.csv",
         239,
         1726148502000
        ],
        [
         "dbfs:/FileStore/tables/bucket_by_id/part-00000-tid-3073423319325188797-2626bfcf-c82b-4b74-8307-0fc7f23e0e0b-140-2_00001.c000.csv",
         "part-00000-tid-3073423319325188797-2626bfcf-c82b-4b74-8307-0fc7f23e0e0b-140-2_00001.c000.csv",
         172,
         1726148503000
        ],
        [
         "dbfs:/FileStore/tables/bucket_by_id/part-00000-tid-3073423319325188797-2626bfcf-c82b-4b74-8307-0fc7f23e0e0b-140-3_00002.c000.csv",
         "part-00000-tid-3073423319325188797-2626bfcf-c82b-4b74-8307-0fc7f23e0e0b-140-3_00002.c000.csv",
         87,
         1726148503000
        ]
       ],
       "datasetInfos": [],
       "dbfsResultPath": null,
       "isJsonSchema": true,
       "metadata": {
        "isDbfsCommandResult": false
       },
       "overflow": false,
       "plotOptions": {
        "customPlotOptions": {},
        "displayType": "table",
        "pivotAggregation": null,
        "pivotColumns": null,
        "xColumns": null,
        "yColumns": null
       },
       "removedWidgets": [],
       "schema": [
        {
         "metadata": "{}",
         "name": "path",
         "type": "\"string\""
        },
        {
         "metadata": "{}",
         "name": "name",
         "type": "\"string\""
        },
        {
         "metadata": "{}",
         "name": "size",
         "type": "\"long\""
        },
        {
         "metadata": "{}",
         "name": "modificationTime",
         "type": "\"long\""
        }
       ],
       "type": "table"
      }
     },
     "output_type": "display_data"
    }
   ],
   "source": [
    "%fs\n",
    "ls /FileStore/tables/bucket_by_id/"
   ]
  },
  {
   "cell_type": "code",
   "execution_count": 0,
   "metadata": {
    "application/vnd.databricks.v1+cell": {
     "cellMetadata": {
      "byteLimit": 2048000,
      "rowLimit": 10000
     },
     "inputWidgets": {},
     "nuid": "fb0a6ce2-d969-42c9-92a1-b3b7ca45bfdc",
     "showTitle": false,
     "title": ""
    }
   },
   "outputs": [
    {
     "output_type": "stream",
     "name": "stdout",
     "output_type": "stream",
     "text": [
      "Out[51]: [FileInfo(path='dbfs:/FileStore/tables/bucket_by_id/_SUCCESS', name='_SUCCESS', size=0, modificationTime=1726148503000),\n FileInfo(path='dbfs:/FileStore/tables/bucket_by_id/_committed_3073423319325188797', name='_committed_3073423319325188797', size=309, modificationTime=1726148503000),\n FileInfo(path='dbfs:/FileStore/tables/bucket_by_id/_started_3073423319325188797', name='_started_3073423319325188797', size=0, modificationTime=1726148502000),\n FileInfo(path='dbfs:/FileStore/tables/bucket_by_id/part-00000-tid-3073423319325188797-2626bfcf-c82b-4b74-8307-0fc7f23e0e0b-140-1_00000.c000.csv', name='part-00000-tid-3073423319325188797-2626bfcf-c82b-4b74-8307-0fc7f23e0e0b-140-1_00000.c000.csv', size=239, modificationTime=1726148502000),\n FileInfo(path='dbfs:/FileStore/tables/bucket_by_id/part-00000-tid-3073423319325188797-2626bfcf-c82b-4b74-8307-0fc7f23e0e0b-140-2_00001.c000.csv', name='part-00000-tid-3073423319325188797-2626bfcf-c82b-4b74-8307-0fc7f23e0e0b-140-2_00001.c000.csv', size=172, modificationTime=1726148503000),\n FileInfo(path='dbfs:/FileStore/tables/bucket_by_id/part-00000-tid-3073423319325188797-2626bfcf-c82b-4b74-8307-0fc7f23e0e0b-140-3_00002.c000.csv', name='part-00000-tid-3073423319325188797-2626bfcf-c82b-4b74-8307-0fc7f23e0e0b-140-3_00002.c000.csv', size=87, modificationTime=1726148503000)]"
     ]
    }
   ],
   "source": [
    "dbutils.fs.ls('/FileStore/tables/bucket_by_id')"
   ]
  },
  {
   "cell_type": "code",
   "execution_count": 0,
   "metadata": {
    "application/vnd.databricks.v1+cell": {
     "cellMetadata": {
      "byteLimit": 2048000,
      "rowLimit": 10000
     },
     "inputWidgets": {},
     "nuid": "5618cf87-8f4a-445f-b9e7-d59823103aa9",
     "showTitle": false,
     "title": ""
    }
   },
   "outputs": [
    {
     "output_type": "stream",
     "name": "stdout",
     "output_type": "stream",
     "text": [
      "+---+--------+---+------+-------+------+\n| id|    name|age|salary|address|gender|\n+---+--------+---+------+-------+------+\n|  1|  Manish| 26| 75000|  INDIA|     m|\n|  4|Prantosh| 17|200000|  JAPAN|     m|\n|  5|  Vikash| 31|300000|    USA|     m|\n|  6|   Rahul| 55|300000|  INDIA|     m|\n|  7|    Raju| 67|540000|    USA|     m|\n|  9|     Dev| 32|150000|  JAPAN|     m|\n| 11|    Ragu| 12| 35000|  INDIA|     f|\n| 13| Raushan| 48|650000|    USA|     m|\n+---+--------+---+------+-------+------+\n\n"
     ]
    }
   ],
   "source": [
    "# read the bucket data\n",
    "bucket_df = spark.read.format('csv')\\\n",
    "                     .option('inferschema', 'true')\\\n",
    "                     .option('header', 'true')\\\n",
    "                     .option('mode', 'PERMISSIVE')\\\n",
    "                     .load('/FileStore/tables/bucket_by_id/part-00000-tid-3073423319325188797-2626bfcf-c82b-4b74-8307-0fc7f23e0e0b-140-1_00000.c000.csv')\n",
    "bucket_df.show()"
   ]
  },
  {
   "cell_type": "markdown",
   "metadata": {
    "application/vnd.databricks.v1+cell": {
     "cellMetadata": {},
     "inputWidgets": {},
     "nuid": "edf21cbf-abeb-4996-90f6-29b2adb2d155",
     "showTitle": false,
     "title": ""
    }
   },
   "source": [
    "------------- Learn Bucket Pruning"
   ]
  },
  {
   "cell_type": "markdown",
   "metadata": {
    "application/vnd.databricks.v1+cell": {
     "cellMetadata": {},
     "inputWidgets": {},
     "nuid": "f2d1d7ea-a5cc-4b5a-b8ff-890a39ff21e2",
     "showTitle": false,
     "title": ""
    }
   },
   "source": []
  }
 ],
 "metadata": {
  "application/vnd.databricks.v1+notebook": {
   "dashboards": [],
   "environmentMetadata": null,
   "language": "python",
   "notebookMetadata": {
    "mostRecentlyExecutedCommandWithImplicitDF": {
     "commandId": 2682490514034739,
     "dataframes": [
      "_sqldf"
     ]
    },
    "pythonIndentUnit": 4
   },
   "notebookName": "write_operation_disk_with_partition_and_bucketing",
   "widgets": {}
  }
 },
 "nbformat": 4,
 "nbformat_minor": 0
}
