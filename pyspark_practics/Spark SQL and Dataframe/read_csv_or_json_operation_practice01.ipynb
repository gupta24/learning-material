{
 "cells": [
  {
   "cell_type": "code",
   "execution_count": 0,
   "metadata": {
    "application/vnd.databricks.v1+cell": {
     "cellMetadata": {
      "byteLimit": 2048000,
      "rowLimit": 10000
     },
     "inputWidgets": {},
     "nuid": "33f3af7f-8fab-4d40-8c7f-7ef0ed62d001",
     "showTitle": false,
     "title": ""
    }
   },
   "outputs": [
    {
     "output_type": "display_data",
     "data": {
      "text/html": [
       "\n",
       "            <div>\n",
       "                <p><b>SparkSession - hive</b></p>\n",
       "                \n",
       "        <div>\n",
       "            <p><b>SparkContext</b></p>\n",
       "\n",
       "            <p><a href=\"/?o=442497685451589#setting/sparkui/0911-095232-mgmhn6e7/driver-6342451684304136624\">Spark UI</a></p>\n",
       "\n",
       "            <dl>\n",
       "              <dt>Version</dt>\n",
       "                <dd><code>v3.3.2</code></dd>\n",
       "              <dt>Master</dt>\n",
       "                <dd><code>local[8]</code></dd>\n",
       "              <dt>AppName</dt>\n",
       "                <dd><code>Databricks Shell</code></dd>\n",
       "            </dl>\n",
       "        </div>\n",
       "        \n",
       "            </div>\n",
       "        "
      ]
     },
     "metadata": {
      "application/vnd.databricks.v1+output": {
       "addedWidgets": {},
       "arguments": {},
       "data": "\n            <div>\n                <p><b>SparkSession - hive</b></p>\n                \n        <div>\n            <p><b>SparkContext</b></p>\n\n            <p><a href=\"/?o=442497685451589#setting/sparkui/0911-095232-mgmhn6e7/driver-6342451684304136624\">Spark UI</a></p>\n\n            <dl>\n              <dt>Version</dt>\n                <dd><code>v3.3.2</code></dd>\n              <dt>Master</dt>\n                <dd><code>local[8]</code></dd>\n              <dt>AppName</dt>\n                <dd><code>Databricks Shell</code></dd>\n            </dl>\n        </div>\n        \n            </div>\n        ",
       "datasetInfos": [],
       "metadata": {},
       "removedWidgets": [],
       "textData": null,
       "type": "htmlSandbox"
      }
     },
     "output_type": "display_data"
    }
   ],
   "source": [
    "spark"
   ]
  },
  {
   "cell_type": "markdown",
   "metadata": {
    "application/vnd.databricks.v1+cell": {
     "cellMetadata": {},
     "inputWidgets": {},
     "nuid": "1ad17c24-ec5b-49fa-bc81-8bb86792c5d7",
     "showTitle": false,
     "title": ""
    }
   },
   "source": [
    "-------- Read The CSV Data File"
   ]
  },
  {
   "cell_type": "code",
   "execution_count": 0,
   "metadata": {
    "application/vnd.databricks.v1+cell": {
     "cellMetadata": {
      "byteLimit": 2048000,
      "rowLimit": 10000
     },
     "inputWidgets": {},
     "nuid": "57238d9e-7941-4b84-837b-a1b5a6e8de98",
     "showTitle": false,
     "title": ""
    }
   },
   "outputs": [
    {
     "output_type": "stream",
     "name": "stdout",
     "output_type": "stream",
     "text": [
      "+------------+-------+-------------------+-------+-----+\n|         _c0|    _c1|                _c2|    _c3|  _c4|\n+------------+-------+-------------------+-------+-----+\n|RecordNumber|Country|               City|Zipcode|State|\n|           1|     US|        PARC PARQUE|    704|   PR|\n|           2|     US|PASEO COSTA DEL SUR|    704|   PR|\n|          10|     US|       BDA SAN LUIS|    709|   PR|\n|       49347|     US|               HOLT|  32564|   FL|\n+------------+-------+-------------------+-------+-----+\nonly showing top 5 rows\n\n"
     ]
    }
   ],
   "source": [
    "read_csv_df = spark.read.format(\"csv\")\\\n",
    "                        .option(\"header\", \"false\")\\\n",
    "                        .option(\"infraschema\", \"false\")\\\n",
    "                        .option(\"mode\", \"FAILFAST\")\\\n",
    "                        .load(\"/FileStore/tables/simple_zipcodes-2.csv\")\n",
    "read_csv_df.show(5)"
   ]
  },
  {
   "cell_type": "markdown",
   "metadata": {
    "application/vnd.databricks.v1+cell": {
     "cellMetadata": {},
     "inputWidgets": {},
     "nuid": "63867306-7768-4c5b-89c8-a770e6c675e5",
     "showTitle": false,
     "title": ""
    }
   },
   "source": [
    "Print The Default Schema"
   ]
  },
  {
   "cell_type": "code",
   "execution_count": 0,
   "metadata": {
    "application/vnd.databricks.v1+cell": {
     "cellMetadata": {
      "byteLimit": 2048000,
      "rowLimit": 10000
     },
     "inputWidgets": {},
     "nuid": "be77c773-a88a-47cf-ac3a-3bb786b3bee0",
     "showTitle": false,
     "title": ""
    }
   },
   "outputs": [
    {
     "output_type": "stream",
     "name": "stdout",
     "output_type": "stream",
     "text": [
      "root\n |-- RecordNumber: string (nullable = true)\n |-- Country: string (nullable = true)\n |-- City: string (nullable = true)\n |-- Zipcode: string (nullable = true)\n |-- State: string (nullable = true)\n\n"
     ]
    }
   ],
   "source": [
    "read_csv_df = spark.read.format(\"csv\")\\\n",
    "                        .option(\"header\", \"true\")\\\n",
    "                        .option(\"infraschema\", \"true\")\\\n",
    "                        .option(\"mode\", \"FAILFAST\")\\\n",
    "                        .load(\"/FileStore/tables/simple_zipcodes-2.csv\")\n",
    "read_csv_df.printSchema()"
   ]
  },
  {
   "cell_type": "markdown",
   "metadata": {
    "application/vnd.databricks.v1+cell": {
     "cellMetadata": {},
     "inputWidgets": {},
     "nuid": "d2da71b1-0cc9-4377-9f5a-f55eb48957b4",
     "showTitle": false,
     "title": ""
    }
   },
   "source": [
    "Create Our Own Schema"
   ]
  },
  {
   "cell_type": "code",
   "execution_count": 0,
   "metadata": {
    "application/vnd.databricks.v1+cell": {
     "cellMetadata": {
      "byteLimit": 2048000,
      "rowLimit": 10000
     },
     "inputWidgets": {},
     "nuid": "982e0ab6-6ecd-420f-8614-cfe87e468972",
     "showTitle": false,
     "title": ""
    }
   },
   "outputs": [
    {
     "output_type": "stream",
     "name": "stdout",
     "output_type": "stream",
     "text": [
      "root\n |-- RecordNumber: integer (nullable = true)\n |-- Country: string (nullable = true)\n |-- City: string (nullable = true)\n |-- Zipcode: integer (nullable = true)\n |-- State: string (nullable = true)\n\n"
     ]
    }
   ],
   "source": [
    "# import libraries\n",
    "from pyspark.sql.types import StructType, StructField, IntegerType, StringType\n",
    "\n",
    "country_schema = StructType([\n",
    "    StructField(\"RecordNumber\", IntegerType(), True),\n",
    "    StructField(\"Country\", StringType(), True),\n",
    "    StructField(\"City\", StringType(), True),\n",
    "    StructField(\"Zipcode\", IntegerType(), True),\n",
    "    StructField(\"State\", StringType(), True)\n",
    "])\n",
    "\n",
    "# add the own schema here...\n",
    "read_csv_df = spark.read.format(\"csv\")\\\n",
    "                        .option(\"header\", \"true\")\\\n",
    "                        .option(\"infraschema\", \"false\")\\\n",
    "                        .option(\"mode\", \"FAILFAST\")\\\n",
    "                        .schema(country_schema)\\\n",
    "                        .load(\"/FileStore/tables/simple_zipcodes-2.csv\")\n",
    "read_csv_df.printSchema()"
   ]
  },
  {
   "cell_type": "markdown",
   "metadata": {
    "application/vnd.databricks.v1+cell": {
     "cellMetadata": {},
     "inputWidgets": {},
     "nuid": "e6c8927f-55dd-4ada-bd7a-0f2ab6a09644",
     "showTitle": false,
     "title": ""
    }
   },
   "source": [
    "Check Different Modes"
   ]
  },
  {
   "cell_type": "code",
   "execution_count": 0,
   "metadata": {
    "application/vnd.databricks.v1+cell": {
     "cellMetadata": {
      "byteLimit": 2048000,
      "rowLimit": 10000
     },
     "inputWidgets": {},
     "nuid": "d52a1140-f77f-4a4e-a286-73a63c2d174c",
     "showTitle": false,
     "title": ""
    }
   },
   "outputs": [
    {
     "output_type": "stream",
     "name": "stdout",
     "output_type": "stream",
     "text": [
      "+---+-----+----------------+\n| Id| Name|         Country|\n+---+-----+----------------+\n|  1| John|              US|\n|  2|  Sem|     US, NewYork|\n|  3|Nikel|            null|\n|  4|  Fdk|India, Bangalore|\n+---+-----+----------------+\n\n"
     ]
    }
   ],
   "source": [
    "# create the another schema\n",
    "schema = \"Id int, Name string, Country string\"\n",
    "data = ([1, \"John\", \"US\"], [2, \"Sem\", \"US, NewYork\"], [3, \"Nikel\", None], [4, \"Fdk\", \"India, Bangalore\"])\n",
    "\n",
    "test_df = spark.createDataFrame(data, schema)\n",
    "test_df.collect()\n",
    "test_df.show()\n",
    "\n",
    "# write the df into specific pat\n",
    "test_df.write.format('csv').mode('overwrite').option('header', \"true\").save('/FileStore/tables/simple_file1.csv')\n",
    "                                                                            \n",
    "# check the different mode"
   ]
  },
  {
   "cell_type": "markdown",
   "metadata": {
    "application/vnd.databricks.v1+cell": {
     "cellMetadata": {},
     "inputWidgets": {},
     "nuid": "4c364787-cfc0-41a9-ac29-291b4e5a2026",
     "showTitle": false,
     "title": ""
    }
   },
   "source": [
    "Check File Data Corrupted Or Not"
   ]
  },
  {
   "cell_type": "code",
   "execution_count": 0,
   "metadata": {
    "application/vnd.databricks.v1+cell": {
     "cellMetadata": {
      "byteLimit": 2048000,
      "rowLimit": 10000
     },
     "inputWidgets": {},
     "nuid": "2cb7193d-c44b-49e4-9c22-355fe1c6b873",
     "showTitle": false,
     "title": ""
    }
   },
   "outputs": [
    {
     "output_type": "display_data",
     "data": {
      "text/html": [
       "<style scoped>\n",
       "  .table-result-container {\n",
       "    max-height: 300px;\n",
       "    overflow: auto;\n",
       "  }\n",
       "  table, th, td {\n",
       "    border: 1px solid black;\n",
       "    border-collapse: collapse;\n",
       "  }\n",
       "  th, td {\n",
       "    padding: 5px;\n",
       "  }\n",
       "  th {\n",
       "    text-align: left;\n",
       "  }\n",
       "</style><div class='table-result-container'><table class='table-result'><thead style='background-color: white'><tr><th>path</th><th>name</th><th>size</th><th>modificationTime</th></tr></thead><tbody><tr><td>dbfs:/FileStore/tables/badrecords/</td><td>badrecords/</td><td>0</td><td>0</td></tr><tr><td>dbfs:/FileStore/tables/multiline_zipcode-1.json</td><td>multiline_zipcode-1.json</td><td>239</td><td>1725625566000</td></tr><tr><td>dbfs:/FileStore/tables/multiline_zipcode-2.json</td><td>multiline_zipcode-2.json</td><td>239</td><td>1725625726000</td></tr><tr><td>dbfs:/FileStore/tables/multiline_zipcode.json</td><td>multiline_zipcode.json</td><td>239</td><td>1725625362000</td></tr><tr><td>dbfs:/FileStore/tables/simple_file1.csv/</td><td>simple_file1.csv/</td><td>0</td><td>0</td></tr><tr><td>dbfs:/FileStore/tables/simple_file2.csv</td><td>simple_file2.csv</td><td>139</td><td>1725879650000</td></tr><tr><td>dbfs:/FileStore/tables/simple_zipcodes-1.csv</td><td>simple_zipcodes-1.csv</td><td>590</td><td>1725625566000</td></tr><tr><td>dbfs:/FileStore/tables/simple_zipcodes-2.csv</td><td>simple_zipcodes-2.csv</td><td>590</td><td>1725626333000</td></tr><tr><td>dbfs:/FileStore/tables/simple_zipcodes.csv</td><td>simple_zipcodes.csv</td><td>590</td><td>1725625362000</td></tr></tbody></table></div>"
      ]
     },
     "metadata": {
      "application/vnd.databricks.v1+output": {
       "addedWidgets": {},
       "aggData": [],
       "aggError": "",
       "aggOverflow": false,
       "aggSchema": [],
       "aggSeriesLimitReached": false,
       "aggType": "",
       "arguments": {},
       "columnCustomDisplayInfos": {},
       "data": [
        [
         "dbfs:/FileStore/tables/badrecords/",
         "badrecords/",
         0,
         0
        ],
        [
         "dbfs:/FileStore/tables/multiline_zipcode-1.json",
         "multiline_zipcode-1.json",
         239,
         1725625566000
        ],
        [
         "dbfs:/FileStore/tables/multiline_zipcode-2.json",
         "multiline_zipcode-2.json",
         239,
         1725625726000
        ],
        [
         "dbfs:/FileStore/tables/multiline_zipcode.json",
         "multiline_zipcode.json",
         239,
         1725625362000
        ],
        [
         "dbfs:/FileStore/tables/simple_file1.csv/",
         "simple_file1.csv/",
         0,
         0
        ],
        [
         "dbfs:/FileStore/tables/simple_file2.csv",
         "simple_file2.csv",
         139,
         1725879650000
        ],
        [
         "dbfs:/FileStore/tables/simple_zipcodes-1.csv",
         "simple_zipcodes-1.csv",
         590,
         1725625566000
        ],
        [
         "dbfs:/FileStore/tables/simple_zipcodes-2.csv",
         "simple_zipcodes-2.csv",
         590,
         1725626333000
        ],
        [
         "dbfs:/FileStore/tables/simple_zipcodes.csv",
         "simple_zipcodes.csv",
         590,
         1725625362000
        ]
       ],
       "datasetInfos": [],
       "dbfsResultPath": null,
       "isJsonSchema": true,
       "metadata": {
        "isDbfsCommandResult": false
       },
       "overflow": false,
       "plotOptions": {
        "customPlotOptions": {},
        "displayType": "table",
        "pivotAggregation": null,
        "pivotColumns": null,
        "xColumns": null,
        "yColumns": null
       },
       "removedWidgets": [],
       "schema": [
        {
         "metadata": "{}",
         "name": "path",
         "type": "\"string\""
        },
        {
         "metadata": "{}",
         "name": "name",
         "type": "\"string\""
        },
        {
         "metadata": "{}",
         "name": "size",
         "type": "\"long\""
        },
        {
         "metadata": "{}",
         "name": "modificationTime",
         "type": "\"long\""
        }
       ],
       "type": "table"
      }
     },
     "output_type": "display_data"
    }
   ],
   "source": [
    "%fs\n",
    "ls /FileStore/tables/"
   ]
  },
  {
   "cell_type": "code",
   "execution_count": 0,
   "metadata": {
    "application/vnd.databricks.v1+cell": {
     "cellMetadata": {
      "byteLimit": 2048000,
      "rowLimit": 10000
     },
     "inputWidgets": {},
     "nuid": "fd9672e3-1470-40b3-9330-26e812b973f5",
     "showTitle": false,
     "title": ""
    }
   },
   "outputs": [
    {
     "output_type": "display_data",
     "data": {
      "text/html": [
       "<style scoped>\n",
       "  .table-result-container {\n",
       "    max-height: 300px;\n",
       "    overflow: auto;\n",
       "  }\n",
       "  table, th, td {\n",
       "    border: 1px solid black;\n",
       "    border-collapse: collapse;\n",
       "  }\n",
       "  th, td {\n",
       "    padding: 5px;\n",
       "  }\n",
       "  th {\n",
       "    text-align: left;\n",
       "  }\n",
       "</style><div class='table-result-container'><table class='table-result'><thead style='background-color: white'><tr><th>Id</th><th>Name</th><th>Country</th><th>Nominee</th><th>_corrupt_record</th></tr></thead><tbody><tr><td>1</td><td> John</td><td> US</td><td> nominee1</td><td>null</td></tr><tr><td>2</td><td> Sem</td><td> US</td><td> newyork</td><td>2, Sem, US, newyork, nominee2</td></tr><tr><td>3</td><td> Nikel</td><td> </td><td> nominee3</td><td>null</td></tr><tr><td>4</td><td> Fdk</td><td> India</td><td> Bangalore</td><td>4, Fdk, India, Bangalore, nominee4</td></tr></tbody></table></div>"
      ]
     },
     "metadata": {
      "application/vnd.databricks.v1+output": {
       "addedWidgets": {},
       "aggData": [],
       "aggError": "",
       "aggOverflow": false,
       "aggSchema": [],
       "aggSeriesLimitReached": false,
       "aggType": "",
       "arguments": {},
       "columnCustomDisplayInfos": {},
       "data": [
        [
         1,
         " John",
         " US",
         " nominee1",
         null
        ],
        [
         2,
         " Sem",
         " US",
         " newyork",
         "2, Sem, US, newyork, nominee2"
        ],
        [
         3,
         " Nikel",
         " ",
         " nominee3",
         null
        ],
        [
         4,
         " Fdk",
         " India",
         " Bangalore",
         "4, Fdk, India, Bangalore, nominee4"
        ]
       ],
       "datasetInfos": [],
       "dbfsResultPath": null,
       "isJsonSchema": true,
       "metadata": {},
       "overflow": false,
       "plotOptions": {
        "customPlotOptions": {},
        "displayType": "table",
        "pivotAggregation": null,
        "pivotColumns": null,
        "xColumns": null,
        "yColumns": null
       },
       "removedWidgets": [],
       "schema": [
        {
         "metadata": "{}",
         "name": "Id",
         "type": "\"integer\""
        },
        {
         "metadata": "{}",
         "name": "Name",
         "type": "\"string\""
        },
        {
         "metadata": "{}",
         "name": "Country",
         "type": "\"string\""
        },
        {
         "metadata": "{}",
         "name": "Nominee",
         "type": "\"string\""
        },
        {
         "metadata": "{}",
         "name": "_corrupt_record",
         "type": "\"string\""
        }
       ],
       "type": "table"
      }
     },
     "output_type": "display_data"
    }
   ],
   "source": [
    "# use the different modes for that need to add schema with _corrupt_record\n",
    "# ----- FAILFAST----------\n",
    "res_test_df = spark.read.format('csv')\\\n",
    "                        .option('header', \"true\")\\\n",
    "                        .option('mode', 'FAILFAST')\\\n",
    "                        .schema('Id int, Name string, Country string, _Corrupt_Record string')\\\n",
    "                        .load('/FileStore/tables/simple_file1.csv')\n",
    "\n",
    "res_test_df.display()\n",
    "\n",
    "# ----- DROPMALFORMED----------\n",
    "res_test_df1 = spark.read.format('csv')\\\n",
    "                         .option('header', \"true\")\\\n",
    "                         .option('delimeter', ',')\\\n",
    "                         .option('mode', 'DROPMALFORMED')\\\n",
    "                         .schema('Id int, Name string, Country string, Nominee string, _corrupt_record string')\\\n",
    "                         .load('/FileStore/tables/simple_file2.csv')\n",
    "\n",
    "res_test_df1.display()\n",
    "\n",
    "# ----- PERMISSIVE----------\n",
    "res_test_df1 = spark.read.format('csv')\\\n",
    "                         .option('header', \"true\")\\\n",
    "                         .option('delimeter', ',')\\\n",
    "                         .option('mode', 'PERMISSIVE')\\\n",
    "                         .schema('Id int, Name string, Country string, Nominee string, _corrupt_record string')\\\n",
    "                         .load('/FileStore/tables/simple_file2.csv')\n",
    "\n",
    "res_test_df1.display()"
   ]
  },
  {
   "cell_type": "markdown",
   "metadata": {
    "application/vnd.databricks.v1+cell": {
     "cellMetadata": {},
     "inputWidgets": {},
     "nuid": "63349dd3-9bbf-495d-a172-cc369cf47abc",
     "showTitle": false,
     "title": ""
    }
   },
   "source": [
    "Save/Corrupted The Corrupted Record"
   ]
  },
  {
   "cell_type": "code",
   "execution_count": 0,
   "metadata": {
    "application/vnd.databricks.v1+cell": {
     "cellMetadata": {
      "byteLimit": 2048000,
      "rowLimit": 10000
     },
     "inputWidgets": {},
     "nuid": "ac20b2d6-013a-4425-b5af-295a7fb3de13",
     "showTitle": false,
     "title": ""
    }
   },
   "outputs": [
    {
     "output_type": "display_data",
     "data": {
      "text/html": [
       "<style scoped>\n",
       "  .table-result-container {\n",
       "    max-height: 300px;\n",
       "    overflow: auto;\n",
       "  }\n",
       "  table, th, td {\n",
       "    border: 1px solid black;\n",
       "    border-collapse: collapse;\n",
       "  }\n",
       "  th, td {\n",
       "    padding: 5px;\n",
       "  }\n",
       "  th {\n",
       "    text-align: left;\n",
       "  }\n",
       "</style><div class='table-result-container'><table class='table-result'><thead style='background-color: white'><tr><th>Id</th><th>Name</th><th>Country</th><th>Nominee</th><th>_corrupt_record</th></tr></thead><tbody><tr><td>1</td><td> John</td><td> US</td><td> nominee1</td><td>null</td></tr><tr><td>3</td><td> Nikel</td><td> </td><td> nominee3</td><td>null</td></tr></tbody></table></div>"
      ]
     },
     "metadata": {
      "application/vnd.databricks.v1+output": {
       "addedWidgets": {},
       "aggData": [],
       "aggError": "",
       "aggOverflow": false,
       "aggSchema": [],
       "aggSeriesLimitReached": false,
       "aggType": "",
       "arguments": {},
       "columnCustomDisplayInfos": {},
       "data": [
        [
         1,
         " John",
         " US",
         " nominee1",
         null
        ],
        [
         3,
         " Nikel",
         " ",
         " nominee3",
         null
        ]
       ],
       "datasetInfos": [],
       "dbfsResultPath": null,
       "isJsonSchema": true,
       "metadata": {},
       "overflow": false,
       "plotOptions": {
        "customPlotOptions": {},
        "displayType": "table",
        "pivotAggregation": null,
        "pivotColumns": null,
        "xColumns": null,
        "yColumns": null
       },
       "removedWidgets": [],
       "schema": [
        {
         "metadata": "{}",
         "name": "Id",
         "type": "\"integer\""
        },
        {
         "metadata": "{}",
         "name": "Name",
         "type": "\"string\""
        },
        {
         "metadata": "{}",
         "name": "Country",
         "type": "\"string\""
        },
        {
         "metadata": "{}",
         "name": "Nominee",
         "type": "\"string\""
        },
        {
         "metadata": "{}",
         "name": "_corrupt_record",
         "type": "\"string\""
        }
       ],
       "type": "table"
      }
     },
     "output_type": "display_data"
    }
   ],
   "source": [
    "# store the corrupted records in the given file path as json format\n",
    "res_test_df1 = spark.read.format('csv')\\\n",
    "                         .option('header', \"true\")\\\n",
    "                         .option('delimeter', ',')\\\n",
    "                         .schema('Id int, Name string, Country string, Nominee string, _corrupt_record string')\\\n",
    "                         .option('badRecordsPath', '/FileStore/tables/badrecords')\\\n",
    "                         .load('/FileStore/tables/simple_file2.csv')\n",
    "\n",
    "res_test_df1.display()"
   ]
  },
  {
   "cell_type": "markdown",
   "metadata": {
    "application/vnd.databricks.v1+cell": {
     "cellMetadata": {},
     "inputWidgets": {},
     "nuid": "cd71615f-84d7-432f-a3ed-ecc40af90756",
     "showTitle": false,
     "title": ""
    }
   },
   "source": [
    "------------ Read The Json Data File"
   ]
  },
  {
   "cell_type": "code",
   "execution_count": 0,
   "metadata": {
    "application/vnd.databricks.v1+cell": {
     "cellMetadata": {
      "byteLimit": 2048000,
      "rowLimit": 10000
     },
     "inputWidgets": {},
     "nuid": "d75d9e2d-e60a-4ef0-865e-2ade23a5ef26",
     "showTitle": false,
     "title": ""
    }
   },
   "outputs": [
    {
     "output_type": "display_data",
     "data": {
      "text/html": [
       "<style scoped>\n",
       "  .table-result-container {\n",
       "    max-height: 300px;\n",
       "    overflow: auto;\n",
       "  }\n",
       "  table, th, td {\n",
       "    border: 1px solid black;\n",
       "    border-collapse: collapse;\n",
       "  }\n",
       "  th, td {\n",
       "    padding: 5px;\n",
       "  }\n",
       "  th {\n",
       "    text-align: left;\n",
       "  }\n",
       "</style><div class='table-result-container'><table class='table-result'><thead style='background-color: white'><tr><th>path</th><th>name</th><th>size</th><th>modificationTime</th></tr></thead><tbody><tr><td>dbfs:/FileStore/tables/badrecords/20240910T054501/bad_records/part-00000-7557b3eb-b5de-41d3-97cd-d48f56b93db5</td><td>part-00000-7557b3eb-b5de-41d3-97cd-d48f56b93db5</td><td>446</td><td>1725947104000</td></tr></tbody></table></div>"
      ]
     },
     "metadata": {
      "application/vnd.databricks.v1+output": {
       "addedWidgets": {},
       "aggData": [],
       "aggError": "",
       "aggOverflow": false,
       "aggSchema": [],
       "aggSeriesLimitReached": false,
       "aggType": "",
       "arguments": {},
       "columnCustomDisplayInfos": {},
       "data": [
        [
         "dbfs:/FileStore/tables/badrecords/20240910T054501/bad_records/part-00000-7557b3eb-b5de-41d3-97cd-d48f56b93db5",
         "part-00000-7557b3eb-b5de-41d3-97cd-d48f56b93db5",
         446,
         1725947104000
        ]
       ],
       "datasetInfos": [],
       "dbfsResultPath": null,
       "isJsonSchema": true,
       "metadata": {
        "isDbfsCommandResult": false
       },
       "overflow": false,
       "plotOptions": {
        "customPlotOptions": {},
        "displayType": "table",
        "pivotAggregation": null,
        "pivotColumns": null,
        "xColumns": null,
        "yColumns": null
       },
       "removedWidgets": [],
       "schema": [
        {
         "metadata": "{}",
         "name": "path",
         "type": "\"string\""
        },
        {
         "metadata": "{}",
         "name": "name",
         "type": "\"string\""
        },
        {
         "metadata": "{}",
         "name": "size",
         "type": "\"long\""
        },
        {
         "metadata": "{}",
         "name": "modificationTime",
         "type": "\"long\""
        }
       ],
       "type": "table"
      }
     },
     "output_type": "display_data"
    }
   ],
   "source": [
    "%fs\n",
    "ls /FileStore/tables/badrecords/20240910T054501/bad_records"
   ]
  },
  {
   "cell_type": "code",
   "execution_count": 0,
   "metadata": {
    "application/vnd.databricks.v1+cell": {
     "cellMetadata": {
      "byteLimit": 2048000,
      "rowLimit": 10000
     },
     "inputWidgets": {},
     "nuid": "3af0335f-1184-47c5-8db8-129a4c734721",
     "showTitle": false,
     "title": ""
    }
   },
   "outputs": [
    {
     "output_type": "stream",
     "name": "stdout",
     "output_type": "stream",
     "text": [
      "+---------------------------------------+-----------------------------------------------------------------------------------------------------------------------+----------------------------------+\n|path                                   |reason                                                                                                                 |record                            |\n+---------------------------------------+-----------------------------------------------------------------------------------------------------------------------+----------------------------------+\n|dbfs:/FileStore/tables/simple_file2.csv|org.apache.spark.SparkRuntimeException: [MALFORMED_CSV_RECORD] Malformed CSV record: 2, Sem, US, newyork, nominee2     |2, Sem, US, newyork, nominee2     |\n|dbfs:/FileStore/tables/simple_file2.csv|org.apache.spark.SparkRuntimeException: [MALFORMED_CSV_RECORD] Malformed CSV record: 4, Fdk, India, Bangalore, nominee4|4, Fdk, India, Bangalore, nominee4|\n+---------------------------------------+-----------------------------------------------------------------------------------------------------------------------+----------------------------------+\n\n"
     ]
    }
   ],
   "source": [
    "# read the corrupted record from bad record file path..\n",
    "bad_record_df = spark.read.format('json').load('/FileStore/tables/badrecords/20240910T054501/bad_records/part-00000-7557b3eb-b5de-41d3-97cd-d48f56b93db5')\n",
    "bad_record_df.show(truncate = False)"
   ]
  },
  {
   "cell_type": "markdown",
   "metadata": {
    "application/vnd.databricks.v1+cell": {
     "cellMetadata": {},
     "inputWidgets": {},
     "nuid": "d36769f0-5e05-49b6-9ee4-4b40ac4debea",
     "showTitle": false,
     "title": ""
    }
   },
   "source": [
    "Read The Different Json File.\n",
    "Here line delimeter json is faster than multiline json"
   ]
  },
  {
   "cell_type": "code",
   "execution_count": 0,
   "metadata": {
    "application/vnd.databricks.v1+cell": {
     "cellMetadata": {
      "byteLimit": 2048000,
      "rowLimit": 10000
     },
     "inputWidgets": {},
     "nuid": "d41f2cc4-710c-46c6-8d2d-287f6c4c9cbb",
     "showTitle": false,
     "title": ""
    }
   },
   "outputs": [
    {
     "output_type": "display_data",
     "data": {
      "text/html": [
       "<style scoped>\n",
       "  .table-result-container {\n",
       "    max-height: 300px;\n",
       "    overflow: auto;\n",
       "  }\n",
       "  table, th, td {\n",
       "    border: 1px solid black;\n",
       "    border-collapse: collapse;\n",
       "  }\n",
       "  th, td {\n",
       "    padding: 5px;\n",
       "  }\n",
       "  th {\n",
       "    text-align: left;\n",
       "  }\n",
       "</style><div class='table-result-container'><table class='table-result'><thead style='background-color: white'><tr><th>path</th><th>name</th><th>size</th><th>modificationTime</th></tr></thead><tbody><tr><td>dbfs:/FileStore/tables/Multi_line_correct.json</td><td>Multi_line_correct.json</td><td>310</td><td>1726033887000</td></tr><tr><td>dbfs:/FileStore/tables/Multi_line_incorrect.json</td><td>Multi_line_incorrect.json</td><td>304</td><td>1726033888000</td></tr><tr><td>dbfs:/FileStore/tables/badrecords/</td><td>badrecords/</td><td>0</td><td>0</td></tr><tr><td>dbfs:/FileStore/tables/corrupted_json.json</td><td>corrupted_json.json</td><td>218</td><td>1726033889000</td></tr><tr><td>dbfs:/FileStore/tables/line_delimited_json.json</td><td>line_delimited_json.json</td><td>219</td><td>1726033889000</td></tr><tr><td>dbfs:/FileStore/tables/multiline_nested_json.json</td><td>multiline_nested_json.json</td><td>610</td><td>1726048295000</td></tr><tr><td>dbfs:/FileStore/tables/multiline_zipcode-2.json</td><td>multiline_zipcode-2.json</td><td>239</td><td>1725625726000</td></tr><tr><td>dbfs:/FileStore/tables/simple_file1.csv/</td><td>simple_file1.csv/</td><td>0</td><td>0</td></tr><tr><td>dbfs:/FileStore/tables/simple_file2.csv</td><td>simple_file2.csv</td><td>139</td><td>1725879650000</td></tr><tr><td>dbfs:/FileStore/tables/simple_zipcodes-2.csv</td><td>simple_zipcodes-2.csv</td><td>590</td><td>1725626333000</td></tr><tr><td>dbfs:/FileStore/tables/single_file_json_with_extra_fields.json</td><td>single_file_json_with_extra_fields.json</td><td>232</td><td>1726033887000</td></tr></tbody></table></div>"
      ]
     },
     "metadata": {
      "application/vnd.databricks.v1+output": {
       "addedWidgets": {},
       "aggData": [],
       "aggError": "",
       "aggOverflow": false,
       "aggSchema": [],
       "aggSeriesLimitReached": false,
       "aggType": "",
       "arguments": {},
       "columnCustomDisplayInfos": {},
       "data": [
        [
         "dbfs:/FileStore/tables/Multi_line_correct.json",
         "Multi_line_correct.json",
         310,
         1726033887000
        ],
        [
         "dbfs:/FileStore/tables/Multi_line_incorrect.json",
         "Multi_line_incorrect.json",
         304,
         1726033888000
        ],
        [
         "dbfs:/FileStore/tables/badrecords/",
         "badrecords/",
         0,
         0
        ],
        [
         "dbfs:/FileStore/tables/corrupted_json.json",
         "corrupted_json.json",
         218,
         1726033889000
        ],
        [
         "dbfs:/FileStore/tables/line_delimited_json.json",
         "line_delimited_json.json",
         219,
         1726033889000
        ],
        [
         "dbfs:/FileStore/tables/multiline_nested_json.json",
         "multiline_nested_json.json",
         610,
         1726048295000
        ],
        [
         "dbfs:/FileStore/tables/multiline_zipcode-2.json",
         "multiline_zipcode-2.json",
         239,
         1725625726000
        ],
        [
         "dbfs:/FileStore/tables/simple_file1.csv/",
         "simple_file1.csv/",
         0,
         0
        ],
        [
         "dbfs:/FileStore/tables/simple_file2.csv",
         "simple_file2.csv",
         139,
         1725879650000
        ],
        [
         "dbfs:/FileStore/tables/simple_zipcodes-2.csv",
         "simple_zipcodes-2.csv",
         590,
         1725626333000
        ],
        [
         "dbfs:/FileStore/tables/single_file_json_with_extra_fields.json",
         "single_file_json_with_extra_fields.json",
         232,
         1726033887000
        ]
       ],
       "datasetInfos": [],
       "dbfsResultPath": null,
       "isJsonSchema": true,
       "metadata": {
        "isDbfsCommandResult": false
       },
       "overflow": false,
       "plotOptions": {
        "customPlotOptions": {},
        "displayType": "table",
        "pivotAggregation": null,
        "pivotColumns": null,
        "xColumns": null,
        "yColumns": null
       },
       "removedWidgets": [],
       "schema": [
        {
         "metadata": "{}",
         "name": "path",
         "type": "\"string\""
        },
        {
         "metadata": "{}",
         "name": "name",
         "type": "\"string\""
        },
        {
         "metadata": "{}",
         "name": "size",
         "type": "\"long\""
        },
        {
         "metadata": "{}",
         "name": "modificationTime",
         "type": "\"long\""
        }
       ],
       "type": "table"
      }
     },
     "output_type": "display_data"
    }
   ],
   "source": [
    "%fs\n",
    "ls /FileStore/tables"
   ]
  },
  {
   "cell_type": "code",
   "execution_count": 0,
   "metadata": {
    "application/vnd.databricks.v1+cell": {
     "cellMetadata": {
      "byteLimit": 2048000,
      "rowLimit": 10000
     },
     "inputWidgets": {},
     "nuid": "b1061d88-67e0-4ba5-82b0-14ae65f0a7c2",
     "showTitle": false,
     "title": ""
    }
   },
   "outputs": [
    {
     "output_type": "display_data",
     "data": {
      "text/html": [
       "<style scoped>\n",
       "  .ansiout {\n",
       "    display: block;\n",
       "    unicode-bidi: embed;\n",
       "    white-space: pre-wrap;\n",
       "    word-wrap: break-word;\n",
       "    word-break: break-all;\n",
       "    font-family: \"Menlo\", \"Monaco\", \"Consolas\", \"Ubuntu Mono\", \"Source Code Pro\", monospace;\n",
       "    font-size: 13px;\n",
       "    color: #555;\n",
       "    margin-left: 4px;\n",
       "    line-height: 19px;\n",
       "  }\n",
       "</style>\n",
       "<div class=\"ansiout\">res5: Boolean = true\n",
       "</div>"
      ]
     },
     "metadata": {
      "application/vnd.databricks.v1+output": {
       "addedWidgets": {},
       "arguments": {},
       "data": "<div class=\"ansiout\">res5: Boolean = true\n</div>",
       "datasetInfos": [],
       "metadata": {
        "isDbfsCommandResult": false
       },
       "removedWidgets": [],
       "type": "html"
      }
     },
     "output_type": "display_data"
    }
   ],
   "source": [
    "%fs\n",
    "rm dbfs:/FileStore/tables/simple_zipcodes-1.csv"
   ]
  },
  {
   "cell_type": "code",
   "execution_count": 0,
   "metadata": {
    "application/vnd.databricks.v1+cell": {
     "cellMetadata": {
      "byteLimit": 2048000,
      "rowLimit": 10000
     },
     "inputWidgets": {},
     "nuid": "9a741838-ef66-4c32-a69a-cf138efdf629",
     "showTitle": false,
     "title": ""
    }
   },
   "outputs": [
    {
     "output_type": "stream",
     "name": "stdout",
     "output_type": "stream",
     "text": [
      "+---+--------+------+\n|age|    name|salary|\n+---+--------+------+\n| 20|  Manish| 20000|\n| 25|  Nikita| 21000|\n| 16|  Pritam| 22000|\n| 35|Prantosh| 25000|\n| 67|  Vikash| 40000|\n+---+--------+------+\n\n+---+------+--------+------+\n|age|gender|    name|salary|\n+---+------+--------+------+\n| 20|  null|  Manish| 20000|\n| 25|  null|  Nikita| 21000|\n| 16|  null|  Pritam| 22000|\n| 35|  null|Prantosh| 25000|\n| 67|     M|  Vikash| 40000|\n+---+------+--------+------+\n\n+--------------------+----+--------+------+\n|     _corrupt_record| age|    name|salary|\n+--------------------+----+--------+------+\n|                null|  20|  Manish| 20000|\n|                null|  25|  Nikita| 21000|\n|                null|  16|  Pritam| 22000|\n|                null|  35|Prantosh| 25000|\n|{\"name\":\"Vikash\",...|null|    null|  null|\n+--------------------+----+--------+------+\n\n+---+--------+------+\n|age|    name|salary|\n+---+--------+------+\n| 20|  Manish| 20000|\n| 25|  Nikita| 21000|\n| 16|  Pritam| 22000|\n| 35|Prantosh| 25000|\n| 67|  Vikash| 40000|\n+---+--------+------+\n\n+---+------+------+\n|age|  name|salary|\n+---+------+------+\n| 20|Manish| 20000|\n+---+------+------+\n\n+-------------------+---+----+--------------------------------------------+\n|address            |id |name|phone_numbers                               |\n+-------------------+---+----+--------------------------------------------+\n|{New York, NY}     |1  |John|[{123-456-7890, home}, {987-654-3210, work}]|\n|{San Francisco, CA}|2  |Jane|[{555-1234, mobile}, {777-4321, work}]      |\n+-------------------+---+----+--------------------------------------------+\n\nroot\n |-- address: struct (nullable = true)\n |    |-- city: string (nullable = true)\n |    |-- state: string (nullable = true)\n |-- id: long (nullable = true)\n |-- name: string (nullable = true)\n |-- phone_numbers: array (nullable = true)\n |    |-- element: struct (containsNull = true)\n |    |    |-- number: string (nullable = true)\n |    |    |-- type: string (nullable = true)\n\n"
     ]
    }
   ],
   "source": [
    "# read the line delimiter json\n",
    "line_delimiter_df = spark.read.format('json')\\\n",
    "                              .option('header', 'true')\\\n",
    "                              .option('mode', 'PERMISSIVE')\\\n",
    "                              .load('/FileStore/tables/line_delimited_json.json').show()\n",
    "\n",
    "# read the line delimeter data with extra filed\n",
    "line_delimiter_json_with_extra_field_df = spark.read.format('json')\\\n",
    "                              .option('header', 'true')\\\n",
    "                              .option('mode', 'PERMISSIVE')\\\n",
    "                              .load('/FileStore/tables/single_file_json_with_extra_fields.json').show()\n",
    "\n",
    "# read the line delimeter corrupted data\n",
    "corrupted_json_df = spark.read.format('json')\\\n",
    "                              .option('header', 'true')\\\n",
    "                              .option('mode', 'PERMISSIVE')\\\n",
    "                              .load('/FileStore/tables/corrupted_json.json').show()\n",
    "\n",
    "# read the multiline correct data\n",
    "multiline_correct_json_df = spark.read.format('json')\\\n",
    "                              .option('header', 'true')\\\n",
    "                              .option('multiline', 'true')\\\n",
    "                              .option('mode', 'PERMISSIVE')\\\n",
    "                              .load('/FileStore/tables/Multi_line_correct.json').show()\n",
    "\n",
    "# read the multiline incorrect data\n",
    "multiline_incorrect_json_df = spark.read.format('json')\\\n",
    "                              .option('header', 'true')\\\n",
    "                              .option('multiline', 'true')\\\n",
    "                              .option('mode', 'PERMISSIVE')\\\n",
    "                              .load('/FileStore/tables/Multi_line_incorrect.json').show()\n",
    "\n",
    "\n",
    "# read the multiline nested file data\n",
    "multiline_nested_json_df = spark.read.format('json')\\\n",
    "                              .option('header', 'true')\\\n",
    "                              .option('multiline', 'true')\\\n",
    "                              .option('mode', 'PERMISSIVE')\\\n",
    "                              .load('/FileStore/tables/multiline_nested_json.json')\n",
    "multiline_nested_json_df.show(truncate=False)\n",
    "multiline_nested_json_df.printSchema()\n"
   ]
  },
  {
   "cell_type": "code",
   "execution_count": 0,
   "metadata": {
    "application/vnd.databricks.v1+cell": {
     "cellMetadata": {},
     "inputWidgets": {},
     "nuid": "744f6a3b-eeb0-42a0-b79f-39b64a5aa7a4",
     "showTitle": false,
     "title": ""
    }
   },
   "outputs": [],
   "source": []
  }
 ],
 "metadata": {
  "application/vnd.databricks.v1+notebook": {
   "dashboards": [],
   "environmentMetadata": null,
   "language": "python",
   "notebookMetadata": {
    "mostRecentlyExecutedCommandWithImplicitDF": {
     "commandId": 235558751853655,
     "dataframes": [
      "_sqldf"
     ]
    },
    "pythonIndentUnit": 4
   },
   "notebookName": "read_write_csv_or_json_operation",
   "widgets": {}
  }
 },
 "nbformat": 4,
 "nbformat_minor": 0
}
