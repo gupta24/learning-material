{
 "cells": [
  {
   "cell_type": "code",
   "execution_count": 0,
   "metadata": {
    "application/vnd.databricks.v1+cell": {
     "cellMetadata": {
      "byteLimit": 2048000,
      "rowLimit": 10000
     },
     "inputWidgets": {},
     "nuid": "53bb71ec-0c3a-44de-bc09-f7a5f45609c1",
     "showTitle": false,
     "title": ""
    }
   },
   "outputs": [
    {
     "output_type": "display_data",
     "data": {
      "text/html": [
       "\n",
       "            <div>\n",
       "                <p><b>SparkSession - hive</b></p>\n",
       "                \n",
       "        <div>\n",
       "            <p><b>SparkContext</b></p>\n",
       "\n",
       "            <p><a href=\"/?o=442497685451589#setting/sparkui/0912-090202-roovxbxh/driver-3609808658249020146\">Spark UI</a></p>\n",
       "\n",
       "            <dl>\n",
       "              <dt>Version</dt>\n",
       "                <dd><code>v3.3.2</code></dd>\n",
       "              <dt>Master</dt>\n",
       "                <dd><code>local[8]</code></dd>\n",
       "              <dt>AppName</dt>\n",
       "                <dd><code>Databricks Shell</code></dd>\n",
       "            </dl>\n",
       "        </div>\n",
       "        \n",
       "            </div>\n",
       "        "
      ]
     },
     "metadata": {
      "application/vnd.databricks.v1+output": {
       "addedWidgets": {},
       "arguments": {},
       "data": "\n            <div>\n                <p><b>SparkSession - hive</b></p>\n                \n        <div>\n            <p><b>SparkContext</b></p>\n\n            <p><a href=\"/?o=442497685451589#setting/sparkui/0912-090202-roovxbxh/driver-3609808658249020146\">Spark UI</a></p>\n\n            <dl>\n              <dt>Version</dt>\n                <dd><code>v3.3.2</code></dd>\n              <dt>Master</dt>\n                <dd><code>local[8]</code></dd>\n              <dt>AppName</dt>\n                <dd><code>Databricks Shell</code></dd>\n            </dl>\n        </div>\n        \n            </div>\n        ",
       "datasetInfos": [],
       "metadata": {},
       "removedWidgets": [],
       "textData": null,
       "type": "htmlSandbox"
      }
     },
     "output_type": "display_data"
    }
   ],
   "source": [
    "spark"
   ]
  },
  {
   "cell_type": "markdown",
   "metadata": {
    "application/vnd.databricks.v1+cell": {
     "cellMetadata": {},
     "inputWidgets": {},
     "nuid": "02997430-644a-4137-be18-23b5cb284baa",
     "showTitle": false,
     "title": ""
    }
   },
   "source": [
    "Read The Parquet File Format"
   ]
  },
  {
   "cell_type": "code",
   "execution_count": 0,
   "metadata": {
    "application/vnd.databricks.v1+cell": {
     "cellMetadata": {
      "byteLimit": 2048000,
      "rowLimit": 10000
     },
     "inputWidgets": {},
     "nuid": "d9575273-6166-42f6-b567-fdfa55d89dd2",
     "showTitle": false,
     "title": ""
    }
   },
   "outputs": [
    {
     "output_type": "stream",
     "name": "stdout",
     "output_type": "stream",
     "text": [
      "+--------------------+-------------------+-----+\n|   DEST_COUNTRY_NAME|ORIGIN_COUNTRY_NAME|count|\n+--------------------+-------------------+-----+\n|       United States|            Romania|    1|\n|       United States|            Ireland|  264|\n|       United States|              India|   69|\n|               Egypt|      United States|   24|\n|   Equatorial Guinea|      United States|    1|\n|       United States|          Singapore|   25|\n|       United States|            Grenada|   54|\n|          Costa Rica|      United States|  477|\n|             Senegal|      United States|   29|\n|       United States|   Marshall Islands|   44|\n|              Guyana|      United States|   17|\n|       United States|       Sint Maarten|   53|\n|               Malta|      United States|    1|\n|             Bolivia|      United States|   46|\n|            Anguilla|      United States|   21|\n|Turks and Caicos ...|      United States|  136|\n|       United States|        Afghanistan|    2|\n|Saint Vincent and...|      United States|    1|\n|               Italy|      United States|  390|\n|       United States|             Russia|  156|\n+--------------------+-------------------+-----+\nonly showing top 20 rows\n\nOut[12]: 255"
     ]
    }
   ],
   "source": [
    "parquet_df = spark.read.parquet('/FileStore/tables/part_r_00000_1a9822ba_b8fb_4d8e_844a_ea30d0801b9e_gz.parquet')\n",
    "parquet_df.show()\n",
    "parquet_df.count()"
   ]
  },
  {
   "cell_type": "code",
   "execution_count": 0,
   "metadata": {
    "application/vnd.databricks.v1+cell": {
     "cellMetadata": {
      "byteLimit": 2048000,
      "rowLimit": 10000
     },
     "inputWidgets": {},
     "nuid": "ebd3040b-0af3-4326-9ed1-4341c0cdea5d",
     "showTitle": false,
     "title": ""
    }
   },
   "outputs": [
    {
     "output_type": "display_data",
     "data": {
      "text/html": [
       "<style scoped>\n",
       "  .table-result-container {\n",
       "    max-height: 300px;\n",
       "    overflow: auto;\n",
       "  }\n",
       "  table, th, td {\n",
       "    border: 1px solid black;\n",
       "    border-collapse: collapse;\n",
       "  }\n",
       "  th, td {\n",
       "    padding: 5px;\n",
       "  }\n",
       "  th {\n",
       "    text-align: left;\n",
       "  }\n",
       "</style><div class='table-result-container'><table class='table-result'><thead style='background-color: white'><tr><th>path</th><th>name</th><th>size</th><th>modificationTime</th></tr></thead><tbody><tr><td>dbfs:/FileStore/tables/Multi_line_correct.json</td><td>Multi_line_correct.json</td><td>310</td><td>1726033887000</td></tr><tr><td>dbfs:/FileStore/tables/Multi_line_incorrect.json</td><td>Multi_line_incorrect.json</td><td>304</td><td>1726033888000</td></tr><tr><td>dbfs:/FileStore/tables/badrecords/</td><td>badrecords/</td><td>0</td><td>0</td></tr><tr><td>dbfs:/FileStore/tables/corrupted_json.json</td><td>corrupted_json.json</td><td>218</td><td>1726033889000</td></tr><tr><td>dbfs:/FileStore/tables/line_delimited_json.json</td><td>line_delimited_json.json</td><td>219</td><td>1726033889000</td></tr><tr><td>dbfs:/FileStore/tables/multiline_nested_json.json</td><td>multiline_nested_json.json</td><td>610</td><td>1726048295000</td></tr><tr><td>dbfs:/FileStore/tables/multiline_zipcode-2.json</td><td>multiline_zipcode-2.json</td><td>239</td><td>1725625726000</td></tr><tr><td>dbfs:/FileStore/tables/part_r_00000_1a9822ba_b8fb_4d8e_844a_ea30d0801b9e_gz.parquet</td><td>part_r_00000_1a9822ba_b8fb_4d8e_844a_ea30d0801b9e_gz.parquet</td><td>3921</td><td>1726132059000</td></tr><tr><td>dbfs:/FileStore/tables/simple_file1.csv/</td><td>simple_file1.csv/</td><td>0</td><td>0</td></tr><tr><td>dbfs:/FileStore/tables/simple_file2.csv</td><td>simple_file2.csv</td><td>139</td><td>1725879650000</td></tr><tr><td>dbfs:/FileStore/tables/simple_zipcodes-2.csv</td><td>simple_zipcodes-2.csv</td><td>590</td><td>1725626333000</td></tr><tr><td>dbfs:/FileStore/tables/single_file_json_with_extra_fields.json</td><td>single_file_json_with_extra_fields.json</td><td>232</td><td>1726033887000</td></tr></tbody></table></div>"
      ]
     },
     "metadata": {
      "application/vnd.databricks.v1+output": {
       "addedWidgets": {},
       "aggData": [],
       "aggError": "",
       "aggOverflow": false,
       "aggSchema": [],
       "aggSeriesLimitReached": false,
       "aggType": "",
       "arguments": {},
       "columnCustomDisplayInfos": {},
       "data": [
        [
         "dbfs:/FileStore/tables/Multi_line_correct.json",
         "Multi_line_correct.json",
         310,
         1726033887000
        ],
        [
         "dbfs:/FileStore/tables/Multi_line_incorrect.json",
         "Multi_line_incorrect.json",
         304,
         1726033888000
        ],
        [
         "dbfs:/FileStore/tables/badrecords/",
         "badrecords/",
         0,
         0
        ],
        [
         "dbfs:/FileStore/tables/corrupted_json.json",
         "corrupted_json.json",
         218,
         1726033889000
        ],
        [
         "dbfs:/FileStore/tables/line_delimited_json.json",
         "line_delimited_json.json",
         219,
         1726033889000
        ],
        [
         "dbfs:/FileStore/tables/multiline_nested_json.json",
         "multiline_nested_json.json",
         610,
         1726048295000
        ],
        [
         "dbfs:/FileStore/tables/multiline_zipcode-2.json",
         "multiline_zipcode-2.json",
         239,
         1725625726000
        ],
        [
         "dbfs:/FileStore/tables/part_r_00000_1a9822ba_b8fb_4d8e_844a_ea30d0801b9e_gz.parquet",
         "part_r_00000_1a9822ba_b8fb_4d8e_844a_ea30d0801b9e_gz.parquet",
         3921,
         1726132059000
        ],
        [
         "dbfs:/FileStore/tables/simple_file1.csv/",
         "simple_file1.csv/",
         0,
         0
        ],
        [
         "dbfs:/FileStore/tables/simple_file2.csv",
         "simple_file2.csv",
         139,
         1725879650000
        ],
        [
         "dbfs:/FileStore/tables/simple_zipcodes-2.csv",
         "simple_zipcodes-2.csv",
         590,
         1725626333000
        ],
        [
         "dbfs:/FileStore/tables/single_file_json_with_extra_fields.json",
         "single_file_json_with_extra_fields.json",
         232,
         1726033887000
        ]
       ],
       "datasetInfos": [],
       "dbfsResultPath": null,
       "isJsonSchema": true,
       "metadata": {
        "isDbfsCommandResult": false
       },
       "overflow": false,
       "plotOptions": {
        "customPlotOptions": {},
        "displayType": "table",
        "pivotAggregation": null,
        "pivotColumns": null,
        "xColumns": null,
        "yColumns": null
       },
       "removedWidgets": [],
       "schema": [
        {
         "metadata": "{}",
         "name": "path",
         "type": "\"string\""
        },
        {
         "metadata": "{}",
         "name": "name",
         "type": "\"string\""
        },
        {
         "metadata": "{}",
         "name": "size",
         "type": "\"long\""
        },
        {
         "metadata": "{}",
         "name": "modificationTime",
         "type": "\"long\""
        }
       ],
       "type": "table"
      }
     },
     "output_type": "display_data"
    }
   ],
   "source": [
    "%fs\n",
    "ls /FileStore/tables"
   ]
  },
  {
   "cell_type": "markdown",
   "metadata": {
    "application/vnd.databricks.v1+cell": {
     "cellMetadata": {},
     "inputWidgets": {},
     "nuid": "b8fe77c9-6356-4166-9cf8-8c93e93ea008",
     "showTitle": false,
     "title": ""
    }
   },
   "source": [
    "Write The Parquet File"
   ]
  },
  {
   "cell_type": "code",
   "execution_count": 0,
   "metadata": {
    "application/vnd.databricks.v1+cell": {
     "cellMetadata": {
      "byteLimit": 2048000,
      "rowLimit": 10000
     },
     "inputWidgets": {},
     "nuid": "2efe59da-a754-4802-86c1-d28288d791e4",
     "showTitle": false,
     "title": ""
    }
   },
   "outputs": [],
   "source": [
    "parquet_part_df = parquet_df.repartition(3)\n",
    "parquet_part_df.write.parquet('/FileStore/tables/parquet_partition_data')"
   ]
  },
  {
   "cell_type": "code",
   "execution_count": 0,
   "metadata": {
    "application/vnd.databricks.v1+cell": {
     "cellMetadata": {
      "byteLimit": 2048000,
      "rowLimit": 10000
     },
     "inputWidgets": {},
     "nuid": "5e044c68-680f-46c9-9a76-d084d423cd0e",
     "showTitle": false,
     "title": ""
    }
   },
   "outputs": [
    {
     "output_type": "display_data",
     "data": {
      "text/html": [
       "<style scoped>\n",
       "  .table-result-container {\n",
       "    max-height: 300px;\n",
       "    overflow: auto;\n",
       "  }\n",
       "  table, th, td {\n",
       "    border: 1px solid black;\n",
       "    border-collapse: collapse;\n",
       "  }\n",
       "  th, td {\n",
       "    padding: 5px;\n",
       "  }\n",
       "  th {\n",
       "    text-align: left;\n",
       "  }\n",
       "</style><div class='table-result-container'><table class='table-result'><thead style='background-color: white'><tr><th>path</th><th>name</th><th>size</th><th>modificationTime</th></tr></thead><tbody><tr><td>dbfs:/FileStore/tables/parquet_partition_data/_SUCCESS</td><td>_SUCCESS</td><td>0</td><td>1726135996000</td></tr><tr><td>dbfs:/FileStore/tables/parquet_partition_data/_committed_2186836712866798804</td><td>_committed_2186836712866798804</td><td>318</td><td>1726135995000</td></tr><tr><td>dbfs:/FileStore/tables/parquet_partition_data/_started_2186836712866798804</td><td>_started_2186836712866798804</td><td>0</td><td>1726135994000</td></tr><tr><td>dbfs:/FileStore/tables/parquet_partition_data/part-00000-tid-2186836712866798804-b7a94986-7bb6-46b2-b4f7-f9c630149488-3-1-c000.snappy.parquet</td><td>part-00000-tid-2186836712866798804-b7a94986-7bb6-46b2-b4f7-f9c630149488-3-1-c000.snappy.parquet</td><td>2784</td><td>1726135995000</td></tr><tr><td>dbfs:/FileStore/tables/parquet_partition_data/part-00001-tid-2186836712866798804-b7a94986-7bb6-46b2-b4f7-f9c630149488-4-1-c000.snappy.parquet</td><td>part-00001-tid-2186836712866798804-b7a94986-7bb6-46b2-b4f7-f9c630149488-4-1-c000.snappy.parquet</td><td>2756</td><td>1726135995000</td></tr><tr><td>dbfs:/FileStore/tables/parquet_partition_data/part-00002-tid-2186836712866798804-b7a94986-7bb6-46b2-b4f7-f9c630149488-5-1-c000.snappy.parquet</td><td>part-00002-tid-2186836712866798804-b7a94986-7bb6-46b2-b4f7-f9c630149488-5-1-c000.snappy.parquet</td><td>2889</td><td>1726135995000</td></tr></tbody></table></div>"
      ]
     },
     "metadata": {
      "application/vnd.databricks.v1+output": {
       "addedWidgets": {},
       "aggData": [],
       "aggError": "",
       "aggOverflow": false,
       "aggSchema": [],
       "aggSeriesLimitReached": false,
       "aggType": "",
       "arguments": {},
       "columnCustomDisplayInfos": {},
       "data": [
        [
         "dbfs:/FileStore/tables/parquet_partition_data/_SUCCESS",
         "_SUCCESS",
         0,
         1726135996000
        ],
        [
         "dbfs:/FileStore/tables/parquet_partition_data/_committed_2186836712866798804",
         "_committed_2186836712866798804",
         318,
         1726135995000
        ],
        [
         "dbfs:/FileStore/tables/parquet_partition_data/_started_2186836712866798804",
         "_started_2186836712866798804",
         0,
         1726135994000
        ],
        [
         "dbfs:/FileStore/tables/parquet_partition_data/part-00000-tid-2186836712866798804-b7a94986-7bb6-46b2-b4f7-f9c630149488-3-1-c000.snappy.parquet",
         "part-00000-tid-2186836712866798804-b7a94986-7bb6-46b2-b4f7-f9c630149488-3-1-c000.snappy.parquet",
         2784,
         1726135995000
        ],
        [
         "dbfs:/FileStore/tables/parquet_partition_data/part-00001-tid-2186836712866798804-b7a94986-7bb6-46b2-b4f7-f9c630149488-4-1-c000.snappy.parquet",
         "part-00001-tid-2186836712866798804-b7a94986-7bb6-46b2-b4f7-f9c630149488-4-1-c000.snappy.parquet",
         2756,
         1726135995000
        ],
        [
         "dbfs:/FileStore/tables/parquet_partition_data/part-00002-tid-2186836712866798804-b7a94986-7bb6-46b2-b4f7-f9c630149488-5-1-c000.snappy.parquet",
         "part-00002-tid-2186836712866798804-b7a94986-7bb6-46b2-b4f7-f9c630149488-5-1-c000.snappy.parquet",
         2889,
         1726135995000
        ]
       ],
       "datasetInfos": [],
       "dbfsResultPath": null,
       "isJsonSchema": true,
       "metadata": {
        "isDbfsCommandResult": false
       },
       "overflow": false,
       "plotOptions": {
        "customPlotOptions": {},
        "displayType": "table",
        "pivotAggregation": null,
        "pivotColumns": null,
        "xColumns": null,
        "yColumns": null
       },
       "removedWidgets": [],
       "schema": [
        {
         "metadata": "{}",
         "name": "path",
         "type": "\"string\""
        },
        {
         "metadata": "{}",
         "name": "name",
         "type": "\"string\""
        },
        {
         "metadata": "{}",
         "name": "size",
         "type": "\"long\""
        },
        {
         "metadata": "{}",
         "name": "modificationTime",
         "type": "\"long\""
        }
       ],
       "type": "table"
      }
     },
     "output_type": "display_data"
    }
   ],
   "source": [
    "%fs\n",
    "ls /FileStore/tables/parquet_partition_data"
   ]
  },
  {
   "cell_type": "code",
   "execution_count": 0,
   "metadata": {
    "application/vnd.databricks.v1+cell": {
     "cellMetadata": {
      "byteLimit": 2048000,
      "rowLimit": 10000
     },
     "inputWidgets": {},
     "nuid": "de0b7214-6ea2-424a-81bf-7ad27526dcf9",
     "showTitle": false,
     "title": ""
    }
   },
   "outputs": [
    {
     "output_type": "stream",
     "name": "stdout",
     "output_type": "stream",
     "text": [
      "Out[11]: 255"
     ]
    }
   ],
   "source": [
    "load_all_parquet_df = spark.read.parquet('/FileStore/tables/parquet_partition_data/')\n",
    "load_all_parquet_df.count()"
   ]
  }
 ],
 "metadata": {
  "application/vnd.databricks.v1+notebook": {
   "dashboards": [],
   "environmentMetadata": null,
   "language": "python",
   "notebookMetadata": {
    "mostRecentlyExecutedCommandWithImplicitDF": {
     "commandId": 326403779166926,
     "dataframes": [
      "_sqldf"
     ]
    },
    "pythonIndentUnit": 4
   },
   "notebookName": "parquet_file_operation",
   "widgets": {}
  }
 },
 "nbformat": 4,
 "nbformat_minor": 0
}
