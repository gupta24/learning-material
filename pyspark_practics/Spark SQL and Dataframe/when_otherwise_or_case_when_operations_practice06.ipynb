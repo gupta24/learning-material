{
 "cells": [
  {
   "cell_type": "code",
   "execution_count": 0,
   "metadata": {
    "application/vnd.databricks.v1+cell": {
     "cellMetadata": {
      "byteLimit": 2048000,
      "rowLimit": 10000
     },
     "inputWidgets": {},
     "nuid": "8cffc0fb-9b30-4eff-a16c-b5022e15af5b",
     "showTitle": false,
     "title": ""
    }
   },
   "outputs": [
    {
     "output_type": "display_data",
     "data": {
      "text/html": [
       "\n",
       "            <div>\n",
       "                <p><b>SparkSession - hive</b></p>\n",
       "                \n",
       "        <div>\n",
       "            <p><b>SparkContext</b></p>\n",
       "\n",
       "            <p><a href=\"/?o=442497685451589#setting/sparkui/0916-094737-d6l3hrot/driver-2565312283113742737\">Spark UI</a></p>\n",
       "\n",
       "            <dl>\n",
       "              <dt>Version</dt>\n",
       "                <dd><code>v3.3.2</code></dd>\n",
       "              <dt>Master</dt>\n",
       "                <dd><code>local[8]</code></dd>\n",
       "              <dt>AppName</dt>\n",
       "                <dd><code>Databricks Shell</code></dd>\n",
       "            </dl>\n",
       "        </div>\n",
       "        \n",
       "            </div>\n",
       "        "
      ]
     },
     "metadata": {
      "application/vnd.databricks.v1+output": {
       "addedWidgets": {},
       "arguments": {},
       "data": "\n            <div>\n                <p><b>SparkSession - hive</b></p>\n                \n        <div>\n            <p><b>SparkContext</b></p>\n\n            <p><a href=\"/?o=442497685451589#setting/sparkui/0916-094737-d6l3hrot/driver-2565312283113742737\">Spark UI</a></p>\n\n            <dl>\n              <dt>Version</dt>\n                <dd><code>v3.3.2</code></dd>\n              <dt>Master</dt>\n                <dd><code>local[8]</code></dd>\n              <dt>AppName</dt>\n                <dd><code>Databricks Shell</code></dd>\n            </dl>\n        </div>\n        \n            </div>\n        ",
       "datasetInfos": [],
       "metadata": {},
       "removedWidgets": [],
       "textData": null,
       "type": "htmlSandbox"
      }
     },
     "output_type": "display_data"
    }
   ],
   "source": [
    "spark"
   ]
  },
  {
   "cell_type": "markdown",
   "metadata": {
    "application/vnd.databricks.v1+cell": {
     "cellMetadata": {},
     "inputWidgets": {},
     "nuid": "eec8b27a-14b6-4fe3-ab02-6c020c34401b",
     "showTitle": false,
     "title": ""
    }
   },
   "source": [
    "---------- Create DataFrame"
   ]
  },
  {
   "cell_type": "code",
   "execution_count": 0,
   "metadata": {
    "application/vnd.databricks.v1+cell": {
     "cellMetadata": {
      "byteLimit": 2048000,
      "rowLimit": 10000
     },
     "inputWidgets": {},
     "nuid": "e9f24249-5ba7-4a5d-9211-4a1e531475cd",
     "showTitle": false,
     "title": ""
    }
   },
   "outputs": [
    {
     "output_type": "stream",
     "name": "stdout",
     "output_type": "stream",
     "text": [
      "+----+-------+----+-----------+------+-------+-----------+\n|  id|   name| age|gender_code|salary|country|       dept|\n+----+-------+----+-----------+------+-------+-----------+\n|   1| manish|  26|          m| 20000|  india|         IT|\n|   2|  rahul|null|          m| 40000|germany|engineering|\n|   3|  pawan|  12|          m| 60000|  india|      sales|\n|   4|roshini|  44|          f|  null|     uk|engineering|\n|   5|raushan|  35|          f| 70000|  india|      sales|\n|   6|   null|  29|       null|200000|     uk|         IT|\n|   7|   adam|  37|          m| 65000|     us|         IT|\n|   8|  chris|  16|          m| 40000|     us|      sales|\n|null|   null|null|       null|  null|   null|       null|\n|   7|   adam|  37|          m| 65000|     us|         IT|\n+----+-------+----+-----------+------+-------+-----------+\n\n"
     ]
    }
   ],
   "source": [
    "emp_data = [\n",
    "(1,'manish',26,'m',20000,'india','IT'),\n",
    "(2,'rahul',None,'m',40000,'germany','engineering'),\n",
    "(3,'pawan',12,'m',60000,'india','sales'),\n",
    "(4,'roshini',44,'f',None,'uk','engineering'),\n",
    "(5,'raushan',35,'f',70000,'india','sales'),\n",
    "(6,None,29,None,200000,'uk','IT'),\n",
    "(7,'adam',37,'m',65000,'us','IT'),\n",
    "(8,'chris',16,'m',40000,'us','sales'),\n",
    "(None,None,None,None,None,None,None),\n",
    "(7,'adam',37,'m',65000,'us','IT')\n",
    "]\n",
    "schema = ['id', 'name', 'age', 'gender_code', 'salary', 'country', 'dept']\n",
    "df = spark.createDataFrame(emp_data, schema)\n",
    "df.show()"
   ]
  },
  {
   "cell_type": "markdown",
   "metadata": {
    "application/vnd.databricks.v1+cell": {
     "cellMetadata": {},
     "inputWidgets": {},
     "nuid": "9bacf423-9fc4-4810-b0a7-ec027f2d75a8",
     "showTitle": false,
     "title": ""
    }
   },
   "source": [
    "---------- Use When-Otherwise Statement"
   ]
  },
  {
   "cell_type": "code",
   "execution_count": 0,
   "metadata": {
    "application/vnd.databricks.v1+cell": {
     "cellMetadata": {
      "byteLimit": 2048000,
      "rowLimit": 10000
     },
     "inputWidgets": {},
     "nuid": "055c0cc2-70ec-453c-b395-7db3f54fa6d3",
     "showTitle": false,
     "title": ""
    }
   },
   "outputs": [
    {
     "output_type": "stream",
     "name": "stdout",
     "output_type": "stream",
     "text": [
      "+----+-------+----+-----------+------+-------+-----------+--------+\n|  id|   name| age|gender_code|salary|country|       dept|is_adult|\n+----+-------+----+-----------+------+-------+-----------+--------+\n|   1| manish|  26|          m| 20000|  india|         IT|       1|\n|   2|  rahul|null|          m| 40000|germany|engineering| NoValue|\n|   3|  pawan|  12|          m| 60000|  india|      sales|       0|\n|   4|roshini|  44|          f|  null|     uk|engineering|       1|\n|   5|raushan|  35|          f| 70000|  india|      sales|       1|\n|   6|   null|  29|       null|200000|     uk|         IT|       1|\n|   7|   adam|  37|          m| 65000|     us|         IT|       1|\n|   8|  chris|  16|          m| 40000|     us|      sales|       0|\n|null|   null|null|       null|  null|   null|       null| NoValue|\n|   7|   adam|  37|          m| 65000|     us|         IT|       1|\n+----+-------+----+-----------+------+-------+-----------+--------+\n\n+----+-------+----+-----------+------+-------+-----------+\n|  id|   name| age|gender_code|salary|country|       dept|\n+----+-------+----+-----------+------+-------+-----------+\n|   1| manish|  26|          m| 20000|  india|         IT|\n|   2|  rahul|  18|          m| 40000|germany|engineering|\n|   3|  pawan|  12|          m| 60000|  india|      sales|\n|   4|roshini|  44|          f|  null|     uk|engineering|\n|   5|raushan|  35|          f| 70000|  india|      sales|\n|   6|   null|  29|       null|200000|     uk|         IT|\n|   7|   adam|  37|          m| 65000|     us|         IT|\n|   8|  chris|  16|          m| 40000|     us|      sales|\n|null|   null|null|       null|  null|   null|       null|\n|   7|   adam|  37|          m| 65000|     us|         IT|\n+----+-------+----+-----------+------+-------+-----------+\n\n+----+-------+----+-----------+------+-------+-----------+--------+\n|  id|   name| age|gender_code|salary|country|       dept|is_adult|\n+----+-------+----+-----------+------+-------+-----------+--------+\n|   1| manish|  26|          m| 20000|  india|         IT|       1|\n|   2|  rahul|  18|          m| 40000|germany|engineering|       1|\n|   3|  pawan|  12|          m| 60000|  india|      sales|       0|\n|   4|roshini|  44|          f|  null|     uk|engineering|       1|\n|   5|raushan|  35|          f| 70000|  india|      sales|       1|\n|   6|   null|  29|       null|200000|     uk|         IT|       1|\n|   7|   adam|  37|          m| 65000|     us|         IT|       1|\n|   8|  chris|  16|          m| 40000|     us|      sales|       0|\n|null|   null|null|       null|  null|   null|       null| NoValue|\n|   7|   adam|  37|          m| 65000|     us|         IT|       1|\n+----+-------+----+-----------+------+-------+-----------+--------+\n\n+----+-------+----+-----------+------+-------+-----------+-------+\n|  id|   name| age|gender_code|salary|country|       dept|age_cat|\n+----+-------+----+-----------+------+-------+-----------+-------+\n|   1| manish|  26|          m| 20000|  india|         IT|    mid|\n|   2|  rahul|null|          m| 40000|germany|engineering|NoValue|\n|   3|  pawan|  12|          m| 60000|  india|      sales|  minor|\n|   4|roshini|  44|          f|  null|     uk|engineering|  major|\n|   5|raushan|  35|          f| 70000|  india|      sales|  major|\n|   6|   null|  29|       null|200000|     uk|         IT|    mid|\n|   7|   adam|  37|          m| 65000|     us|         IT|  major|\n|   8|  chris|  16|          m| 40000|     us|      sales|  minor|\n|null|   null|null|       null|  null|   null|       null|NoValue|\n|   7|   adam|  37|          m| 65000|     us|         IT|  major|\n+----+-------+----+-----------+------+-------+-----------+-------+\n\n"
     ]
    }
   ],
   "source": [
    "from pyspark.sql.functions import *\n",
    "from pyspark.sql.types import *\n",
    "\n",
    "\n",
    "# use when-otherwise statement only..\n",
    "df.withColumn('is_adult', when(col('age')<18, 0).when(col('age')>=18, 1).otherwise('NoValue')).show()\n",
    "\n",
    "# use when-otherwise statement but first set null field with default value.\n",
    "df1 = df.withColumn('age', when((col('name').isNotNull()) & (col('age').isNull()), lit(18)).otherwise(col('age')))\n",
    "df1.show()\n",
    "df1.withColumn('is_adult', when(col('age')<18, 0).when(col('age')>=18, 1).otherwise('NoValue')).show()\n",
    "\n",
    "# use when-otherwise with multiple conditions..\n",
    "df.withColumn('age_cat', when((col('age')>=1) & (col('age')<18), 'minor')\n",
    "                        .when((col('age')>=18) & (col('age')<30), 'mid')\n",
    "                        .when(col('age')>=30, 'major').otherwise('NoValue')).show()"
   ]
  },
  {
   "cell_type": "markdown",
   "metadata": {
    "application/vnd.databricks.v1+cell": {
     "cellMetadata": {},
     "inputWidgets": {},
     "nuid": "33c92689-5877-4ddc-a0e0-4c81e0884476",
     "showTitle": false,
     "title": ""
    }
   },
   "source": [
    "------------ Case When With SQL"
   ]
  },
  {
   "cell_type": "code",
   "execution_count": 0,
   "metadata": {
    "application/vnd.databricks.v1+cell": {
     "cellMetadata": {
      "byteLimit": 2048000,
      "rowLimit": 10000
     },
     "inputWidgets": {},
     "nuid": "209a7667-38a4-43db-8caa-407ff7e247f4",
     "showTitle": false,
     "title": ""
    }
   },
   "outputs": [
    {
     "output_type": "stream",
     "name": "stdout",
     "output_type": "stream",
     "text": [
      "+----+-------+----+-----------+------+-------+-----------+---------+\n|  id|   name| age|gender_code|salary|country|       dept|is_active|\n+----+-------+----+-----------+------+-------+-----------+---------+\n|   1| manish|  26|          m| 20000|  india|         IT|        1|\n|   2|  rahul|null|          m| 40000|germany|engineering|  NoValue|\n|   3|  pawan|  12|          m| 60000|  india|      sales|        0|\n|   4|roshini|  44|          f|  null|     uk|engineering|        1|\n|   5|raushan|  35|          f| 70000|  india|      sales|        1|\n|   6|   null|  29|       null|200000|     uk|         IT|        1|\n|   7|   adam|  37|          m| 65000|     us|         IT|        1|\n|   8|  chris|  16|          m| 40000|     us|      sales|        0|\n|null|   null|null|       null|  null|   null|       null|  NoValue|\n|   7|   adam|  37|          m| 65000|     us|         IT|        1|\n+----+-------+----+-----------+------+-------+-----------+---------+\n\n"
     ]
    }
   ],
   "source": [
    "# use case-when statement with spark SQL\n",
    "df.createOrReplaceTempView('df_tbl')\n",
    "\n",
    "spark.sql(\"\"\"\n",
    "          select *,\n",
    "          case\n",
    "            when age < 18 then 0\n",
    "            when age >= 18 then 1\n",
    "            else 'NoValue'\n",
    "          end as is_active\n",
    "          from df_tbl\n",
    "          \"\"\").show()\n"
   ]
  },
  {
   "cell_type": "code",
   "execution_count": 0,
   "metadata": {
    "application/vnd.databricks.v1+cell": {
     "cellMetadata": {},
     "inputWidgets": {},
     "nuid": "d8a2c276-a343-4abd-b1f0-92fffd64c888",
     "showTitle": false,
     "title": ""
    }
   },
   "outputs": [],
   "source": []
  },
  {
   "cell_type": "markdown",
   "metadata": {
    "application/vnd.databricks.v1+cell": {
     "cellMetadata": {},
     "inputWidgets": {},
     "nuid": "cdc40e70-f0db-475d-b10c-3313e2153962",
     "showTitle": false,
     "title": ""
    }
   },
   "source": []
  }
 ],
 "metadata": {
  "application/vnd.databricks.v1+notebook": {
   "dashboards": [],
   "environmentMetadata": null,
   "language": "python",
   "notebookMetadata": {
    "pythonIndentUnit": 4
   },
   "notebookName": "when_otherwise_or_case_when_operations",
   "widgets": {}
  }
 },
 "nbformat": 4,
 "nbformat_minor": 0
}
